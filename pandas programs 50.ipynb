{
 "cells": [
  {
   "cell_type": "markdown",
   "id": "c9514d7a",
   "metadata": {},
   "source": [
    "### Sea born"
   ]
  },
  {
   "cell_type": "markdown",
   "id": "a0c7ccc3",
   "metadata": {},
   "source": [
    "    Seaborn is a data visualization library built on top of matplotlib and closely integrated with pandas data structures in Python.\n",
    "    Visualization is the central part of Seaborn which helps in exploration and understanding of data.\n",
    "    Visualizing univariate and bivariate distribution."
   ]
  },
  {
   "cell_type": "code",
   "execution_count": 1,
   "id": "73874556",
   "metadata": {},
   "outputs": [],
   "source": [
    "import seaborn as sns\n"
   ]
  },
  {
   "cell_type": "code",
   "execution_count": 2,
   "id": "a42294e8",
   "metadata": {},
   "outputs": [],
   "source": [
    "df = sns.load_dataset(\"tips\")"
   ]
  },
  {
   "cell_type": "code",
   "execution_count": 3,
   "id": "733b1718",
   "metadata": {},
   "outputs": [
    {
     "data": {
      "text/html": [
       "<div>\n",
       "<style scoped>\n",
       "    .dataframe tbody tr th:only-of-type {\n",
       "        vertical-align: middle;\n",
       "    }\n",
       "\n",
       "    .dataframe tbody tr th {\n",
       "        vertical-align: top;\n",
       "    }\n",
       "\n",
       "    .dataframe thead th {\n",
       "        text-align: right;\n",
       "    }\n",
       "</style>\n",
       "<table border=\"1\" class=\"dataframe\">\n",
       "  <thead>\n",
       "    <tr style=\"text-align: right;\">\n",
       "      <th></th>\n",
       "      <th>total_bill</th>\n",
       "      <th>tip</th>\n",
       "      <th>sex</th>\n",
       "      <th>smoker</th>\n",
       "      <th>day</th>\n",
       "      <th>time</th>\n",
       "      <th>size</th>\n",
       "    </tr>\n",
       "  </thead>\n",
       "  <tbody>\n",
       "    <tr>\n",
       "      <th>0</th>\n",
       "      <td>16.99</td>\n",
       "      <td>1.01</td>\n",
       "      <td>Female</td>\n",
       "      <td>No</td>\n",
       "      <td>Sun</td>\n",
       "      <td>Dinner</td>\n",
       "      <td>2</td>\n",
       "    </tr>\n",
       "    <tr>\n",
       "      <th>1</th>\n",
       "      <td>10.34</td>\n",
       "      <td>1.66</td>\n",
       "      <td>Male</td>\n",
       "      <td>No</td>\n",
       "      <td>Sun</td>\n",
       "      <td>Dinner</td>\n",
       "      <td>3</td>\n",
       "    </tr>\n",
       "    <tr>\n",
       "      <th>2</th>\n",
       "      <td>21.01</td>\n",
       "      <td>3.50</td>\n",
       "      <td>Male</td>\n",
       "      <td>No</td>\n",
       "      <td>Sun</td>\n",
       "      <td>Dinner</td>\n",
       "      <td>3</td>\n",
       "    </tr>\n",
       "    <tr>\n",
       "      <th>3</th>\n",
       "      <td>23.68</td>\n",
       "      <td>3.31</td>\n",
       "      <td>Male</td>\n",
       "      <td>No</td>\n",
       "      <td>Sun</td>\n",
       "      <td>Dinner</td>\n",
       "      <td>2</td>\n",
       "    </tr>\n",
       "    <tr>\n",
       "      <th>4</th>\n",
       "      <td>24.59</td>\n",
       "      <td>3.61</td>\n",
       "      <td>Female</td>\n",
       "      <td>No</td>\n",
       "      <td>Sun</td>\n",
       "      <td>Dinner</td>\n",
       "      <td>4</td>\n",
       "    </tr>\n",
       "    <tr>\n",
       "      <th>...</th>\n",
       "      <td>...</td>\n",
       "      <td>...</td>\n",
       "      <td>...</td>\n",
       "      <td>...</td>\n",
       "      <td>...</td>\n",
       "      <td>...</td>\n",
       "      <td>...</td>\n",
       "    </tr>\n",
       "    <tr>\n",
       "      <th>239</th>\n",
       "      <td>29.03</td>\n",
       "      <td>5.92</td>\n",
       "      <td>Male</td>\n",
       "      <td>No</td>\n",
       "      <td>Sat</td>\n",
       "      <td>Dinner</td>\n",
       "      <td>3</td>\n",
       "    </tr>\n",
       "    <tr>\n",
       "      <th>240</th>\n",
       "      <td>27.18</td>\n",
       "      <td>2.00</td>\n",
       "      <td>Female</td>\n",
       "      <td>Yes</td>\n",
       "      <td>Sat</td>\n",
       "      <td>Dinner</td>\n",
       "      <td>2</td>\n",
       "    </tr>\n",
       "    <tr>\n",
       "      <th>241</th>\n",
       "      <td>22.67</td>\n",
       "      <td>2.00</td>\n",
       "      <td>Male</td>\n",
       "      <td>Yes</td>\n",
       "      <td>Sat</td>\n",
       "      <td>Dinner</td>\n",
       "      <td>2</td>\n",
       "    </tr>\n",
       "    <tr>\n",
       "      <th>242</th>\n",
       "      <td>17.82</td>\n",
       "      <td>1.75</td>\n",
       "      <td>Male</td>\n",
       "      <td>No</td>\n",
       "      <td>Sat</td>\n",
       "      <td>Dinner</td>\n",
       "      <td>2</td>\n",
       "    </tr>\n",
       "    <tr>\n",
       "      <th>243</th>\n",
       "      <td>18.78</td>\n",
       "      <td>3.00</td>\n",
       "      <td>Female</td>\n",
       "      <td>No</td>\n",
       "      <td>Thur</td>\n",
       "      <td>Dinner</td>\n",
       "      <td>2</td>\n",
       "    </tr>\n",
       "  </tbody>\n",
       "</table>\n",
       "<p>244 rows × 7 columns</p>\n",
       "</div>"
      ],
      "text/plain": [
       "     total_bill   tip     sex smoker   day    time  size\n",
       "0         16.99  1.01  Female     No   Sun  Dinner     2\n",
       "1         10.34  1.66    Male     No   Sun  Dinner     3\n",
       "2         21.01  3.50    Male     No   Sun  Dinner     3\n",
       "3         23.68  3.31    Male     No   Sun  Dinner     2\n",
       "4         24.59  3.61  Female     No   Sun  Dinner     4\n",
       "..          ...   ...     ...    ...   ...     ...   ...\n",
       "239       29.03  5.92    Male     No   Sat  Dinner     3\n",
       "240       27.18  2.00  Female    Yes   Sat  Dinner     2\n",
       "241       22.67  2.00    Male    Yes   Sat  Dinner     2\n",
       "242       17.82  1.75    Male     No   Sat  Dinner     2\n",
       "243       18.78  3.00  Female     No  Thur  Dinner     2\n",
       "\n",
       "[244 rows x 7 columns]"
      ]
     },
     "execution_count": 3,
     "metadata": {},
     "output_type": "execute_result"
    }
   ],
   "source": [
    "df"
   ]
  },
  {
   "cell_type": "code",
   "execution_count": 4,
   "id": "444ab12f",
   "metadata": {},
   "outputs": [
    {
     "data": {
      "text/html": [
       "<div>\n",
       "<style scoped>\n",
       "    .dataframe tbody tr th:only-of-type {\n",
       "        vertical-align: middle;\n",
       "    }\n",
       "\n",
       "    .dataframe tbody tr th {\n",
       "        vertical-align: top;\n",
       "    }\n",
       "\n",
       "    .dataframe thead th {\n",
       "        text-align: right;\n",
       "    }\n",
       "</style>\n",
       "<table border=\"1\" class=\"dataframe\">\n",
       "  <thead>\n",
       "    <tr style=\"text-align: right;\">\n",
       "      <th></th>\n",
       "      <th>total_bill</th>\n",
       "      <th>tip</th>\n",
       "      <th>sex</th>\n",
       "      <th>smoker</th>\n",
       "      <th>day</th>\n",
       "      <th>time</th>\n",
       "      <th>size</th>\n",
       "    </tr>\n",
       "  </thead>\n",
       "  <tbody>\n",
       "    <tr>\n",
       "      <th>0</th>\n",
       "      <td>16.99</td>\n",
       "      <td>1.01</td>\n",
       "      <td>Female</td>\n",
       "      <td>No</td>\n",
       "      <td>Sun</td>\n",
       "      <td>Dinner</td>\n",
       "      <td>2</td>\n",
       "    </tr>\n",
       "    <tr>\n",
       "      <th>1</th>\n",
       "      <td>10.34</td>\n",
       "      <td>1.66</td>\n",
       "      <td>Male</td>\n",
       "      <td>No</td>\n",
       "      <td>Sun</td>\n",
       "      <td>Dinner</td>\n",
       "      <td>3</td>\n",
       "    </tr>\n",
       "    <tr>\n",
       "      <th>2</th>\n",
       "      <td>21.01</td>\n",
       "      <td>3.50</td>\n",
       "      <td>Male</td>\n",
       "      <td>No</td>\n",
       "      <td>Sun</td>\n",
       "      <td>Dinner</td>\n",
       "      <td>3</td>\n",
       "    </tr>\n",
       "    <tr>\n",
       "      <th>3</th>\n",
       "      <td>23.68</td>\n",
       "      <td>3.31</td>\n",
       "      <td>Male</td>\n",
       "      <td>No</td>\n",
       "      <td>Sun</td>\n",
       "      <td>Dinner</td>\n",
       "      <td>2</td>\n",
       "    </tr>\n",
       "    <tr>\n",
       "      <th>4</th>\n",
       "      <td>24.59</td>\n",
       "      <td>3.61</td>\n",
       "      <td>Female</td>\n",
       "      <td>No</td>\n",
       "      <td>Sun</td>\n",
       "      <td>Dinner</td>\n",
       "      <td>4</td>\n",
       "    </tr>\n",
       "  </tbody>\n",
       "</table>\n",
       "</div>"
      ],
      "text/plain": [
       "   total_bill   tip     sex smoker  day    time  size\n",
       "0       16.99  1.01  Female     No  Sun  Dinner     2\n",
       "1       10.34  1.66    Male     No  Sun  Dinner     3\n",
       "2       21.01  3.50    Male     No  Sun  Dinner     3\n",
       "3       23.68  3.31    Male     No  Sun  Dinner     2\n",
       "4       24.59  3.61  Female     No  Sun  Dinner     4"
      ]
     },
     "execution_count": 4,
     "metadata": {},
     "output_type": "execute_result"
    }
   ],
   "source": [
    "df.head(5)"
   ]
  },
  {
   "cell_type": "code",
   "execution_count": 5,
   "id": "8a4bd14c",
   "metadata": {},
   "outputs": [
    {
     "data": {
      "text/html": [
       "<div>\n",
       "<style scoped>\n",
       "    .dataframe tbody tr th:only-of-type {\n",
       "        vertical-align: middle;\n",
       "    }\n",
       "\n",
       "    .dataframe tbody tr th {\n",
       "        vertical-align: top;\n",
       "    }\n",
       "\n",
       "    .dataframe thead th {\n",
       "        text-align: right;\n",
       "    }\n",
       "</style>\n",
       "<table border=\"1\" class=\"dataframe\">\n",
       "  <thead>\n",
       "    <tr style=\"text-align: right;\">\n",
       "      <th></th>\n",
       "      <th>total_bill</th>\n",
       "      <th>tip</th>\n",
       "      <th>sex</th>\n",
       "      <th>smoker</th>\n",
       "      <th>day</th>\n",
       "      <th>time</th>\n",
       "      <th>size</th>\n",
       "    </tr>\n",
       "  </thead>\n",
       "  <tbody>\n",
       "    <tr>\n",
       "      <th>239</th>\n",
       "      <td>29.03</td>\n",
       "      <td>5.92</td>\n",
       "      <td>Male</td>\n",
       "      <td>No</td>\n",
       "      <td>Sat</td>\n",
       "      <td>Dinner</td>\n",
       "      <td>3</td>\n",
       "    </tr>\n",
       "    <tr>\n",
       "      <th>240</th>\n",
       "      <td>27.18</td>\n",
       "      <td>2.00</td>\n",
       "      <td>Female</td>\n",
       "      <td>Yes</td>\n",
       "      <td>Sat</td>\n",
       "      <td>Dinner</td>\n",
       "      <td>2</td>\n",
       "    </tr>\n",
       "    <tr>\n",
       "      <th>241</th>\n",
       "      <td>22.67</td>\n",
       "      <td>2.00</td>\n",
       "      <td>Male</td>\n",
       "      <td>Yes</td>\n",
       "      <td>Sat</td>\n",
       "      <td>Dinner</td>\n",
       "      <td>2</td>\n",
       "    </tr>\n",
       "    <tr>\n",
       "      <th>242</th>\n",
       "      <td>17.82</td>\n",
       "      <td>1.75</td>\n",
       "      <td>Male</td>\n",
       "      <td>No</td>\n",
       "      <td>Sat</td>\n",
       "      <td>Dinner</td>\n",
       "      <td>2</td>\n",
       "    </tr>\n",
       "    <tr>\n",
       "      <th>243</th>\n",
       "      <td>18.78</td>\n",
       "      <td>3.00</td>\n",
       "      <td>Female</td>\n",
       "      <td>No</td>\n",
       "      <td>Thur</td>\n",
       "      <td>Dinner</td>\n",
       "      <td>2</td>\n",
       "    </tr>\n",
       "  </tbody>\n",
       "</table>\n",
       "</div>"
      ],
      "text/plain": [
       "     total_bill   tip     sex smoker   day    time  size\n",
       "239       29.03  5.92    Male     No   Sat  Dinner     3\n",
       "240       27.18  2.00  Female    Yes   Sat  Dinner     2\n",
       "241       22.67  2.00    Male    Yes   Sat  Dinner     2\n",
       "242       17.82  1.75    Male     No   Sat  Dinner     2\n",
       "243       18.78  3.00  Female     No  Thur  Dinner     2"
      ]
     },
     "execution_count": 5,
     "metadata": {},
     "output_type": "execute_result"
    }
   ],
   "source": [
    "df.tail(5)"
   ]
  },
  {
   "cell_type": "code",
   "execution_count": 6,
   "id": "6b0d133e",
   "metadata": {},
   "outputs": [
    {
     "name": "stdout",
     "output_type": "stream",
     "text": [
      "<class 'pandas.core.frame.DataFrame'>\n",
      "RangeIndex: 244 entries, 0 to 243\n",
      "Data columns (total 7 columns):\n",
      " #   Column      Non-Null Count  Dtype   \n",
      "---  ------      --------------  -----   \n",
      " 0   total_bill  244 non-null    float64 \n",
      " 1   tip         244 non-null    float64 \n",
      " 2   sex         244 non-null    category\n",
      " 3   smoker      244 non-null    category\n",
      " 4   day         244 non-null    category\n",
      " 5   time        244 non-null    category\n",
      " 6   size        244 non-null    int64   \n",
      "dtypes: category(4), float64(2), int64(1)\n",
      "memory usage: 7.1 KB\n"
     ]
    }
   ],
   "source": [
    "df.info()"
   ]
  },
  {
   "cell_type": "markdown",
   "id": "7ab19ae6",
   "metadata": {},
   "source": [
    "### 1. What is the percentage of active smokers in the given sample"
   ]
  },
  {
   "cell_type": "code",
   "execution_count": 7,
   "id": "cec1283d",
   "metadata": {},
   "outputs": [
    {
     "data": {
      "text/plain": [
       "38.114754098360656"
      ]
     },
     "execution_count": 7,
     "metadata": {},
     "output_type": "execute_result"
    }
   ],
   "source": [
    "(len(df[df[\"smoker\"] == \"Yes\"])/len(df[\"smoker\"]))*100"
   ]
  },
  {
   "cell_type": "markdown",
   "id": "4fcbbf08",
   "metadata": {},
   "source": [
    "    The percentage of avtive smokers in the given sample is 38 %"
   ]
  },
  {
   "cell_type": "markdown",
   "id": "6d287a90",
   "metadata": {},
   "source": [
    "### 2. Which gender has mostly occupied space when the table size is 3?"
   ]
  },
  {
   "cell_type": "code",
   "execution_count": 8,
   "id": "b06745f5",
   "metadata": {},
   "outputs": [
    {
     "data": {
      "text/plain": [
       "'Male'"
      ]
     },
     "execution_count": 8,
     "metadata": {},
     "output_type": "execute_result"
    }
   ],
   "source": [
    "s = df[df[\"size\"] == 3]\n",
    "max(s[\"sex\"])"
   ]
  },
  {
   "cell_type": "markdown",
   "id": "9856e6a3",
   "metadata": {},
   "source": [
    "    Male gender has occupied more space in the table size 3"
   ]
  },
  {
   "cell_type": "markdown",
   "id": "acf3c1e6",
   "metadata": {},
   "source": [
    "### 3. What is the difference amunt of data percentage withthe respect to sex? and how much higher in copared to opposite sex?"
   ]
  },
  {
   "cell_type": "code",
   "execution_count": 9,
   "id": "371c346f",
   "metadata": {},
   "outputs": [],
   "source": [
    "df_3 = df[df[\"sex\"] == \"Male\"]"
   ]
  },
  {
   "cell_type": "code",
   "execution_count": 10,
   "id": "098d532f",
   "metadata": {},
   "outputs": [
    {
     "data": {
      "text/html": [
       "<div>\n",
       "<style scoped>\n",
       "    .dataframe tbody tr th:only-of-type {\n",
       "        vertical-align: middle;\n",
       "    }\n",
       "\n",
       "    .dataframe tbody tr th {\n",
       "        vertical-align: top;\n",
       "    }\n",
       "\n",
       "    .dataframe thead th {\n",
       "        text-align: right;\n",
       "    }\n",
       "</style>\n",
       "<table border=\"1\" class=\"dataframe\">\n",
       "  <thead>\n",
       "    <tr style=\"text-align: right;\">\n",
       "      <th></th>\n",
       "      <th>total_bill</th>\n",
       "      <th>tip</th>\n",
       "      <th>sex</th>\n",
       "      <th>smoker</th>\n",
       "      <th>day</th>\n",
       "      <th>time</th>\n",
       "      <th>size</th>\n",
       "    </tr>\n",
       "  </thead>\n",
       "  <tbody>\n",
       "    <tr>\n",
       "      <th>1</th>\n",
       "      <td>10.34</td>\n",
       "      <td>1.66</td>\n",
       "      <td>Male</td>\n",
       "      <td>No</td>\n",
       "      <td>Sun</td>\n",
       "      <td>Dinner</td>\n",
       "      <td>3</td>\n",
       "    </tr>\n",
       "    <tr>\n",
       "      <th>2</th>\n",
       "      <td>21.01</td>\n",
       "      <td>3.50</td>\n",
       "      <td>Male</td>\n",
       "      <td>No</td>\n",
       "      <td>Sun</td>\n",
       "      <td>Dinner</td>\n",
       "      <td>3</td>\n",
       "    </tr>\n",
       "    <tr>\n",
       "      <th>3</th>\n",
       "      <td>23.68</td>\n",
       "      <td>3.31</td>\n",
       "      <td>Male</td>\n",
       "      <td>No</td>\n",
       "      <td>Sun</td>\n",
       "      <td>Dinner</td>\n",
       "      <td>2</td>\n",
       "    </tr>\n",
       "    <tr>\n",
       "      <th>5</th>\n",
       "      <td>25.29</td>\n",
       "      <td>4.71</td>\n",
       "      <td>Male</td>\n",
       "      <td>No</td>\n",
       "      <td>Sun</td>\n",
       "      <td>Dinner</td>\n",
       "      <td>4</td>\n",
       "    </tr>\n",
       "    <tr>\n",
       "      <th>6</th>\n",
       "      <td>8.77</td>\n",
       "      <td>2.00</td>\n",
       "      <td>Male</td>\n",
       "      <td>No</td>\n",
       "      <td>Sun</td>\n",
       "      <td>Dinner</td>\n",
       "      <td>2</td>\n",
       "    </tr>\n",
       "    <tr>\n",
       "      <th>...</th>\n",
       "      <td>...</td>\n",
       "      <td>...</td>\n",
       "      <td>...</td>\n",
       "      <td>...</td>\n",
       "      <td>...</td>\n",
       "      <td>...</td>\n",
       "      <td>...</td>\n",
       "    </tr>\n",
       "    <tr>\n",
       "      <th>236</th>\n",
       "      <td>12.60</td>\n",
       "      <td>1.00</td>\n",
       "      <td>Male</td>\n",
       "      <td>Yes</td>\n",
       "      <td>Sat</td>\n",
       "      <td>Dinner</td>\n",
       "      <td>2</td>\n",
       "    </tr>\n",
       "    <tr>\n",
       "      <th>237</th>\n",
       "      <td>32.83</td>\n",
       "      <td>1.17</td>\n",
       "      <td>Male</td>\n",
       "      <td>Yes</td>\n",
       "      <td>Sat</td>\n",
       "      <td>Dinner</td>\n",
       "      <td>2</td>\n",
       "    </tr>\n",
       "    <tr>\n",
       "      <th>239</th>\n",
       "      <td>29.03</td>\n",
       "      <td>5.92</td>\n",
       "      <td>Male</td>\n",
       "      <td>No</td>\n",
       "      <td>Sat</td>\n",
       "      <td>Dinner</td>\n",
       "      <td>3</td>\n",
       "    </tr>\n",
       "    <tr>\n",
       "      <th>241</th>\n",
       "      <td>22.67</td>\n",
       "      <td>2.00</td>\n",
       "      <td>Male</td>\n",
       "      <td>Yes</td>\n",
       "      <td>Sat</td>\n",
       "      <td>Dinner</td>\n",
       "      <td>2</td>\n",
       "    </tr>\n",
       "    <tr>\n",
       "      <th>242</th>\n",
       "      <td>17.82</td>\n",
       "      <td>1.75</td>\n",
       "      <td>Male</td>\n",
       "      <td>No</td>\n",
       "      <td>Sat</td>\n",
       "      <td>Dinner</td>\n",
       "      <td>2</td>\n",
       "    </tr>\n",
       "  </tbody>\n",
       "</table>\n",
       "<p>157 rows × 7 columns</p>\n",
       "</div>"
      ],
      "text/plain": [
       "     total_bill   tip   sex smoker  day    time  size\n",
       "1         10.34  1.66  Male     No  Sun  Dinner     3\n",
       "2         21.01  3.50  Male     No  Sun  Dinner     3\n",
       "3         23.68  3.31  Male     No  Sun  Dinner     2\n",
       "5         25.29  4.71  Male     No  Sun  Dinner     4\n",
       "6          8.77  2.00  Male     No  Sun  Dinner     2\n",
       "..          ...   ...   ...    ...  ...     ...   ...\n",
       "236       12.60  1.00  Male    Yes  Sat  Dinner     2\n",
       "237       32.83  1.17  Male    Yes  Sat  Dinner     2\n",
       "239       29.03  5.92  Male     No  Sat  Dinner     3\n",
       "241       22.67  2.00  Male    Yes  Sat  Dinner     2\n",
       "242       17.82  1.75  Male     No  Sat  Dinner     2\n",
       "\n",
       "[157 rows x 7 columns]"
      ]
     },
     "execution_count": 10,
     "metadata": {},
     "output_type": "execute_result"
    }
   ],
   "source": [
    "df_3"
   ]
  },
  {
   "cell_type": "markdown",
   "id": "68def007",
   "metadata": {},
   "source": [
    "### 4. Which gender has offered most valuable tips when tip value is in b/w 3dlr and 6dlr"
   ]
  },
  {
   "cell_type": "code",
   "execution_count": 11,
   "id": "981169d0",
   "metadata": {},
   "outputs": [],
   "source": [
    "s = df.loc[3:6,[\"tip\",\"sex\"]]"
   ]
  },
  {
   "cell_type": "code",
   "execution_count": 12,
   "id": "ac8b2d8c",
   "metadata": {},
   "outputs": [
    {
     "data": {
      "text/html": [
       "<div>\n",
       "<style scoped>\n",
       "    .dataframe tbody tr th:only-of-type {\n",
       "        vertical-align: middle;\n",
       "    }\n",
       "\n",
       "    .dataframe tbody tr th {\n",
       "        vertical-align: top;\n",
       "    }\n",
       "\n",
       "    .dataframe thead th {\n",
       "        text-align: right;\n",
       "    }\n",
       "</style>\n",
       "<table border=\"1\" class=\"dataframe\">\n",
       "  <thead>\n",
       "    <tr style=\"text-align: right;\">\n",
       "      <th></th>\n",
       "      <th>tip</th>\n",
       "      <th>sex</th>\n",
       "    </tr>\n",
       "  </thead>\n",
       "  <tbody>\n",
       "    <tr>\n",
       "      <th>3</th>\n",
       "      <td>3.31</td>\n",
       "      <td>Male</td>\n",
       "    </tr>\n",
       "    <tr>\n",
       "      <th>4</th>\n",
       "      <td>3.61</td>\n",
       "      <td>Female</td>\n",
       "    </tr>\n",
       "    <tr>\n",
       "      <th>5</th>\n",
       "      <td>4.71</td>\n",
       "      <td>Male</td>\n",
       "    </tr>\n",
       "    <tr>\n",
       "      <th>6</th>\n",
       "      <td>2.00</td>\n",
       "      <td>Male</td>\n",
       "    </tr>\n",
       "  </tbody>\n",
       "</table>\n",
       "</div>"
      ],
      "text/plain": [
       "    tip     sex\n",
       "3  3.31    Male\n",
       "4  3.61  Female\n",
       "5  4.71    Male\n",
       "6  2.00    Male"
      ]
     },
     "execution_count": 12,
     "metadata": {},
     "output_type": "execute_result"
    }
   ],
   "source": [
    "s"
   ]
  },
  {
   "cell_type": "code",
   "execution_count": 13,
   "id": "83c36372",
   "metadata": {},
   "outputs": [
    {
     "data": {
      "text/html": [
       "<div>\n",
       "<style scoped>\n",
       "    .dataframe tbody tr th:only-of-type {\n",
       "        vertical-align: middle;\n",
       "    }\n",
       "\n",
       "    .dataframe tbody tr th {\n",
       "        vertical-align: top;\n",
       "    }\n",
       "\n",
       "    .dataframe thead th {\n",
       "        text-align: right;\n",
       "    }\n",
       "</style>\n",
       "<table border=\"1\" class=\"dataframe\">\n",
       "  <thead>\n",
       "    <tr style=\"text-align: right;\">\n",
       "      <th></th>\n",
       "      <th>tip</th>\n",
       "    </tr>\n",
       "    <tr>\n",
       "      <th>sex</th>\n",
       "      <th></th>\n",
       "    </tr>\n",
       "  </thead>\n",
       "  <tbody>\n",
       "    <tr>\n",
       "      <th>Male</th>\n",
       "      <td>3.34</td>\n",
       "    </tr>\n",
       "    <tr>\n",
       "      <th>Female</th>\n",
       "      <td>3.61</td>\n",
       "    </tr>\n",
       "  </tbody>\n",
       "</table>\n",
       "</div>"
      ],
      "text/plain": [
       "         tip\n",
       "sex         \n",
       "Male    3.34\n",
       "Female  3.61"
      ]
     },
     "execution_count": 13,
     "metadata": {},
     "output_type": "execute_result"
    }
   ],
   "source": [
    " s.groupby(\"sex\").mean()"
   ]
  },
  {
   "cell_type": "markdown",
   "id": "de158c26",
   "metadata": {},
   "source": [
    "    Female gender has ofered most valuable tips b/w 3 and 6 dollars"
   ]
  },
  {
   "cell_type": "markdown",
   "id": "b90ef003",
   "metadata": {},
   "source": [
    "### 5. Which time of resturant visit is mostly preferred by customers"
   ]
  },
  {
   "cell_type": "code",
   "execution_count": 14,
   "id": "c91dd2dc",
   "metadata": {},
   "outputs": [
    {
     "data": {
      "text/plain": [
       "0    Dinner\n",
       "Name: time, dtype: category\n",
       "Categories (2, object): ['Lunch', 'Dinner']"
      ]
     },
     "execution_count": 14,
     "metadata": {},
     "output_type": "execute_result"
    }
   ],
   "source": [
    "df[\"time\"].mode()"
   ]
  },
  {
   "cell_type": "code",
   "execution_count": 15,
   "id": "fb10623c",
   "metadata": {},
   "outputs": [
    {
     "data": {
      "text/plain": [
       "['Dinner', 'Lunch']\n",
       "Categories (2, object): ['Lunch', 'Dinner']"
      ]
     },
     "execution_count": 15,
     "metadata": {},
     "output_type": "execute_result"
    }
   ],
   "source": [
    "df[\"time\"].unique()"
   ]
  },
  {
   "cell_type": "markdown",
   "id": "c5048318",
   "metadata": {},
   "source": [
    "    The time of dinner and lunch customers are mostly visited"
   ]
  },
  {
   "cell_type": "markdown",
   "id": "151ef1bf",
   "metadata": {},
   "source": [
    "### 6. Do you think the friday received highestsale when compared to other days?"
   ]
  },
  {
   "cell_type": "code",
   "execution_count": 16,
   "id": "50a3b9c9",
   "metadata": {},
   "outputs": [
    {
     "data": {
      "text/plain": [
       "['Sun', 'Sat', 'Thur', 'Fri']\n",
       "Categories (4, object): ['Thur', 'Fri', 'Sat', 'Sun']"
      ]
     },
     "execution_count": 16,
     "metadata": {},
     "output_type": "execute_result"
    }
   ],
   "source": [
    "df.day.unique()"
   ]
  },
  {
   "cell_type": "code",
   "execution_count": 17,
   "id": "185f85b0",
   "metadata": {},
   "outputs": [],
   "source": [
    "sun_avg = df[df[\"day\"] == \"Sun\"][\"total_bill\"].mean()\n",
    "sat_avg = df[df[\"day\"] == \"Sat\"][\"total_bill\"].mean()\n",
    "thu_avg = df[df[\"day\"] == \"Thur\"][\"total_bill\"].mean()\n",
    "fri_avg = df[df[\"day\"] == \"Fri\"][\"total_bill\"].mean()"
   ]
  },
  {
   "cell_type": "code",
   "execution_count": 18,
   "id": "e0715a6e",
   "metadata": {},
   "outputs": [
    {
     "name": "stdout",
     "output_type": "stream",
     "text": [
      "sunday average value 21.41\n",
      "satday average value 20.441379310344825\n",
      "thursday average value 17.682741935483868\n",
      "friday average value 17.15157894736842\n"
     ]
    }
   ],
   "source": [
    "print(\"sunday average value\",sun_avg)\n",
    "print(\"satday average value\",sat_avg)\n",
    "print(\"thursday average value\",thu_avg)\n",
    "print(\"friday average value\",fri_avg)"
   ]
  },
  {
   "cell_type": "markdown",
   "id": "ff52548b",
   "metadata": {},
   "source": [
    "    When compared to others days sunday has received highest sale"
   ]
  },
  {
   "cell_type": "markdown",
   "id": "e0b2ccb1",
   "metadata": {},
   "source": [
    "### 7. Between table sizes 2 and 4, which one has preffered very often?"
   ]
  },
  {
   "cell_type": "code",
   "execution_count": 19,
   "id": "43787706",
   "metadata": {},
   "outputs": [
    {
     "data": {
      "text/plain": [
       "0    2\n",
       "Name: size, dtype: int64"
      ]
     },
     "execution_count": 19,
     "metadata": {},
     "output_type": "execute_result"
    }
   ],
   "source": [
    "df_7=df[((df[\"size\"] == 2)|(df[\"size\"] == 4))][\"size\"].mode()\n",
    "df_7"
   ]
  },
  {
   "cell_type": "code",
   "execution_count": 20,
   "id": "cdf9e11d",
   "metadata": {},
   "outputs": [
    {
     "data": {
      "text/plain": [
       "2    156\n",
       "4     37\n",
       "Name: size, dtype: int64"
      ]
     },
     "execution_count": 20,
     "metadata": {},
     "output_type": "execute_result"
    }
   ],
   "source": [
    "df[((df[\"size\"] == 2)|(df[\"size\"] == 4))][\"size\"].value_counts()"
   ]
  },
  {
   "cell_type": "markdown",
   "id": "d29f831b",
   "metadata": {},
   "source": [
    "    Between table size 2 & 4 ,2 is very often"
   ]
  },
  {
   "cell_type": "markdown",
   "id": "2c8b806c",
   "metadata": {},
   "source": [
    "### 8. I feel thursday's has a great sale? pls discuss your critics on this sample dataset?"
   ]
  },
  {
   "cell_type": "code",
   "execution_count": 21,
   "id": "503ea8af",
   "metadata": {},
   "outputs": [
    {
     "data": {
      "text/plain": [
       "Sat     87\n",
       "Sun     76\n",
       "Thur    62\n",
       "Fri     19\n",
       "Name: day, dtype: int64"
      ]
     },
     "execution_count": 21,
     "metadata": {},
     "output_type": "execute_result"
    }
   ],
   "source": [
    "df[\"day\"].value_counts()"
   ]
  },
  {
   "cell_type": "code",
   "execution_count": null,
   "id": "491602f5",
   "metadata": {},
   "outputs": [],
   "source": []
  },
  {
   "cell_type": "markdown",
   "id": "3053360f",
   "metadata": {},
   "source": [
    "### 9.  What is the highest bill paid by sex female?"
   ]
  },
  {
   "cell_type": "code",
   "execution_count": 22,
   "id": "804cdd7c",
   "metadata": {},
   "outputs": [
    {
     "data": {
      "text/plain": [
       "44.3"
      ]
     },
     "execution_count": 22,
     "metadata": {},
     "output_type": "execute_result"
    }
   ],
   "source": [
    "df[df[\"sex\"] == \"Female\"][\"total_bill\"].max()\n"
   ]
  },
  {
   "cell_type": "markdown",
   "id": "1949f05f",
   "metadata": {},
   "source": [
    "    Female is the paid highest bill"
   ]
  },
  {
   "cell_type": "markdown",
   "id": "c7403a88",
   "metadata": {},
   "source": [
    "### 10. How much is the difference of highest bill paid by male and female?"
   ]
  },
  {
   "cell_type": "code",
   "execution_count": 23,
   "id": "c8cc1c00",
   "metadata": {},
   "outputs": [
    {
     "data": {
      "text/plain": [
       "44.3"
      ]
     },
     "execution_count": 23,
     "metadata": {},
     "output_type": "execute_result"
    }
   ],
   "source": [
    "df[df[\"sex\"] == \"Female\"][\"total_bill\"].max()\n"
   ]
  },
  {
   "cell_type": "code",
   "execution_count": 24,
   "id": "7104d8f7",
   "metadata": {},
   "outputs": [
    {
     "data": {
      "text/plain": [
       "50.81"
      ]
     },
     "execution_count": 24,
     "metadata": {},
     "output_type": "execute_result"
    }
   ],
   "source": [
    "df[df[\"sex\"] == \"Male\"][\"total_bill\"].max()"
   ]
  },
  {
   "cell_type": "code",
   "execution_count": 25,
   "id": "c7f31473",
   "metadata": {},
   "outputs": [
    {
     "data": {
      "text/plain": [
       "6.510000000000005"
      ]
     },
     "execution_count": 25,
     "metadata": {},
     "output_type": "execute_result"
    }
   ],
   "source": [
    "df[df[\"sex\"] == \"Male\"][\"total_bill\"].max()-df[df[\"sex\"] == \"Female\"][\"total_bill\"].max()"
   ]
  },
  {
   "cell_type": "markdown",
   "id": "54dc9d98",
   "metadata": {},
   "source": [
    "    The difference of highest bill paid by male and female is 6.510000000005"
   ]
  },
  {
   "cell_type": "markdown",
   "id": "c06eba0b",
   "metadata": {},
   "source": [
    "### 11. Which gender has offered a best tip when his /her total bill amount is less than 20 dollars"
   ]
  },
  {
   "cell_type": "code",
   "execution_count": 26,
   "id": "cd0bfdba",
   "metadata": {},
   "outputs": [
    {
     "data": {
      "text/plain": [
       "0    Male\n",
       "Name: sex, dtype: category\n",
       "Categories (2, object): ['Male', 'Female']"
      ]
     },
     "execution_count": 26,
     "metadata": {},
     "output_type": "execute_result"
    }
   ],
   "source": [
    "bill = df[df[\"total_bill\"]<20]\n",
    "bill [\"sex\"].mode()"
   ]
  },
  {
   "cell_type": "markdown",
   "id": "0396b547",
   "metadata": {},
   "source": [
    "    Male gender has offered best tip total_bill is less than 20 dollars"
   ]
  },
  {
   "cell_type": "markdown",
   "id": "b963c23a",
   "metadata": {},
   "source": [
    "### 12.  Which gender has most smoking habit ?pls provide percentage difference"
   ]
  },
  {
   "cell_type": "code",
   "execution_count": 105,
   "id": "76c08db5",
   "metadata": {},
   "outputs": [
    {
     "data": {
      "text/plain": [
       "<AxesSubplot:xlabel='sex', ylabel='count'>"
      ]
     },
     "execution_count": 105,
     "metadata": {},
     "output_type": "execute_result"
    },
    {
     "data": {
      "image/png": "[encoded data removed]",
      "text/plain": [
       "<Figure size 432x288 with 1 Axes>"
      ]
     },
     "metadata": {
      "needs_background": "light"
     },
     "output_type": "display_data"
    }
   ],
   "source": [
    "sns.countplot(x = \"sex\", data = df, hue = \"smoker\")"
   ]
  },
  {
   "cell_type": "code",
   "execution_count": 29,
   "id": "c924a60f",
   "metadata": {},
   "outputs": [],
   "source": [
    "df_12=df[df[\"smoker\"] == \"Yes\"]"
   ]
  },
  {
   "cell_type": "code",
   "execution_count": 30,
   "id": "ca659132",
   "metadata": {},
   "outputs": [
    {
     "data": {
      "text/plain": [
       "35.483870967741936"
      ]
     },
     "execution_count": 30,
     "metadata": {},
     "output_type": "execute_result"
    }
   ],
   "source": [
    "s=(len(df_12[df_12[\"sex\"] ==\"Female\"])/len(df_12[\"sex\"]))*100\n",
    "s"
   ]
  },
  {
   "cell_type": "markdown",
   "id": "a0fc421e",
   "metadata": {},
   "source": [
    "    Female gender has the most smoking habit "
   ]
  },
  {
   "cell_type": "markdown",
   "id": "43cb4621",
   "metadata": {},
   "source": [
    "### 13.  Which day has lowest sale value?"
   ]
  },
  {
   "cell_type": "code",
   "execution_count": 102,
   "id": "c53dd256",
   "metadata": {},
   "outputs": [
    {
     "name": "stdout",
     "output_type": "stream",
     "text": [
      "the sale on Sunday 7.25\n",
      "the sale on Friday 5.75\n",
      "the sale on Saturday 3.07\n",
      "the sale on Thursday 7.51\n"
     ]
    }
   ],
   "source": [
    "sunday=df[df[\"day\"] == \"Sun\"][\"total_bill\"].min()\n",
    "friday=df[df[\"day\"] == \"Fri\"][\"total_bill\"].min()\n",
    "saturday=df[df[\"day\"] == \"Sat\"][\"total_bill\"].min()\n",
    "thursday=df[df[\"day\"] == \"Thur\"][\"total_bill\"].min()\n",
    "print(\"the sale on Sunday\",sunday)\n",
    "print(\"the sale on Friday\",friday)\n",
    "print(\"the sale on Saturday\",saturday)\n",
    "print(\"the sale on Thursday\",thursday)\n"
   ]
  },
  {
   "cell_type": "markdown",
   "id": "3329448d",
   "metadata": {},
   "source": [
    "    Saturday is the lowest sale value"
   ]
  },
  {
   "cell_type": "markdown",
   "id": "7eea1fbd",
   "metadata": {},
   "source": [
    "\n",
    "### 14.  What are the infrequent total bill values in the dataset?"
   ]
  },
  {
   "cell_type": "code",
   "execution_count": 103,
   "id": "c8ba0775",
   "metadata": {},
   "outputs": [
    {
     "data": {
      "text/plain": [
       "<AxesSubplot:ylabel='total_bill'>"
      ]
     },
     "execution_count": 103,
     "metadata": {},
     "output_type": "execute_result"
    },
    {
     "data": {
      "image/png": "[encoded data removed]",
      "text/plain": [
       "<Figure size 432x288 with 1 Axes>"
      ]
     },
     "metadata": {
      "needs_background": "light"
     },
     "output_type": "display_data"
    }
   ],
   "source": [
    "sns.boxplot(y=df[\"total_bill\"])   \n"
   ]
  },
  {
   "cell_type": "code",
   "execution_count": 104,
   "id": "07c69962",
   "metadata": {},
   "outputs": [
    {
     "data": {
      "text/plain": [
       "array([16.99, 10.34, 21.01, 23.68, 24.59, 25.29,  8.77, 26.88, 15.04,\n",
       "       14.78, 10.27, 35.26, 15.42, 18.43, 14.83, 21.58, 10.33, 16.29,\n",
       "       16.97, 20.65, 17.92, 20.29, 15.77, 39.42, 19.82, 17.81, 13.37,\n",
       "       12.69, 21.7 , 19.65,  9.55, 18.35, 15.06, 20.69, 17.78, 24.06,\n",
       "       16.31, 16.93, 18.69, 31.27, 16.04, 17.46, 13.94,  9.68, 30.4 ,\n",
       "       18.29, 22.23, 32.4 , 28.55, 18.04, 12.54, 10.29, 34.81,  9.94,\n",
       "       25.56, 19.49, 38.01, 26.41, 11.24, 48.27, 13.81, 11.02, 17.59,\n",
       "       20.08, 16.45,  3.07, 20.23, 15.01, 12.02, 17.07, 26.86, 25.28,\n",
       "       14.73, 10.51, 27.2 , 22.76, 17.29, 19.44, 16.66, 10.07, 32.68,\n",
       "       15.98, 34.83, 13.03, 18.28, 24.71, 21.16, 28.97, 22.49,  5.75,\n",
       "       16.32, 22.75, 40.17, 27.28, 12.03, 12.46, 11.35, 15.38, 44.3 ,\n",
       "       22.42, 20.92, 15.36, 20.49, 25.21, 18.24, 14.31, 14.  ,  7.25,\n",
       "       38.07, 23.95, 25.71, 17.31, 29.93, 10.65, 12.43, 24.08, 11.69,\n",
       "       13.42, 14.26, 15.95, 12.48, 29.8 ,  8.52, 14.52, 11.38, 22.82,\n",
       "       19.08, 20.27, 11.17, 12.26, 18.26,  8.51, 14.15, 16.  , 13.16,\n",
       "       17.47, 34.3 , 41.19, 27.05, 16.43,  8.35, 18.64, 11.87,  9.78,\n",
       "        7.51, 14.07, 13.13, 17.26, 24.55, 19.77, 29.85, 48.17, 25.  ,\n",
       "       13.39, 16.49, 21.5 , 12.66, 16.21, 17.51, 24.52, 20.76, 31.71,\n",
       "       10.59, 10.63, 50.81, 15.81, 31.85, 16.82, 32.9 , 17.89, 14.48,\n",
       "        9.6 , 34.63, 34.65, 23.33, 45.35, 23.17, 40.55, 20.9 , 30.46,\n",
       "       18.15, 23.1 , 15.69, 19.81, 28.44, 15.48, 16.58,  7.56, 43.11,\n",
       "       13.  , 13.51, 18.71, 12.74, 16.4 , 20.53, 16.47, 26.59, 38.73,\n",
       "       24.27, 12.76, 30.06, 25.89, 48.33, 13.27, 28.17, 12.9 , 28.15,\n",
       "       11.59,  7.74, 30.14, 12.16,  8.58, 16.27, 10.09, 20.45, 13.28,\n",
       "       22.12, 24.01, 11.61, 10.77, 15.53, 12.6 , 32.83, 35.83, 29.03,\n",
       "       27.18, 22.67, 17.82, 18.78])"
      ]
     },
     "execution_count": 104,
     "metadata": {},
     "output_type": "execute_result"
    }
   ],
   "source": [
    "df[\"total_bill\"].unique()"
   ]
  },
  {
   "cell_type": "markdown",
   "id": "6061781d",
   "metadata": {},
   "source": [
    "### 15.  With respect to dinner time with table size 3,whho has made highest total bill value when they are smoker?\n"
   ]
  },
  {
   "cell_type": "code",
   "execution_count": 31,
   "id": "0ced9aa9",
   "metadata": {},
   "outputs": [
    {
     "name": "stderr",
     "output_type": "stream",
     "text": [
      "C:\\Users\\SRAM2\\AppData\\Local\\Temp/ipykernel_4216/3536297547.py:1: UserWarning: Boolean Series key will be reindexed to match DataFrame index.\n",
      "  df[df[\"time\"] == \"Dinner\"][df[\"smoker\"] == \"Yes\"][df[\"size\"] == 3][df[\"total_bill\"] == df[\"total_bill\"].max()][\"sex\"]\n"
     ]
    },
    {
     "data": {
      "text/plain": [
       "170    Male\n",
       "Name: sex, dtype: category\n",
       "Categories (2, object): ['Male', 'Female']"
      ]
     },
     "execution_count": 31,
     "metadata": {},
     "output_type": "execute_result"
    }
   ],
   "source": [
    "df[df[\"time\"] == \"Dinner\"][df[\"smoker\"] == \"Yes\"][df[\"size\"] == 3][df[\"total_bill\"] == df[\"total_bill\"].max()][\"sex\"]"
   ]
  },
  {
   "cell_type": "markdown",
   "id": "a38c0f87",
   "metadata": {},
   "source": [
    "\n",
    "\n",
    "From the above result w r t dinner time with table size 3 male has made highest bill when they are smoker"
   ]
  },
  {
   "cell_type": "markdown",
   "id": "852d2e73",
   "metadata": {},
   "source": [
    "### 16. What is meant by Spurious data anlysis?"
   ]
  },
  {
   "cell_type": "markdown",
   "id": "1a3c5555",
   "metadata": {},
   "source": [
    "    Spurious correlation, or spuriousness, occurs when two factors appear casually related to one another but are not.\n",
    "    Statisticians and scientists use careful statistical analysis to determine spurious relationships.\n",
    "       Confirming a causal relationship requires a study that controls for all possible variables."
   ]
  },
  {
   "cell_type": "markdown",
   "id": "6f473671",
   "metadata": {},
   "source": [
    "### 17.  Why  Corerelation doesn't  imply causation? Give two examples on this. "
   ]
  },
  {
   "cell_type": "code",
   "execution_count": null,
   "id": "0fe20432",
   "metadata": {},
   "outputs": [],
   "source": [
    "Corerelation tels the relationship b/w two variables.   \n",
    "causation tells the, how one variable effects the other\n",
    "Eg.1: Wind speed and windmil speed\n",
    "Eg.2: Mountain height and temperature    "
   ]
  },
  {
   "cell_type": "markdown",
   "id": "82848981",
   "metadata": {},
   "source": [
    "### 18.  When compared to saturday's and sunday's which day  has highest sale? and show both days distribution in single histogram"
   ]
  },
  {
   "cell_type": "code",
   "execution_count": 35,
   "id": "c0c7614b",
   "metadata": {},
   "outputs": [],
   "source": [
    "import matplotlib.pyplot as plt\n",
    "\n",
    "\n"
   ]
  },
  {
   "cell_type": "code",
   "execution_count": 36,
   "id": "7ca135e8",
   "metadata": {},
   "outputs": [],
   "source": [
    "df_sun=df[df[\"day\"]==\"Sun\"][\"total_bill\"]   \n",
    "\n",
    "df_sat=df[df[\"day\"]==\"Sat\"][\"total_bill\"]   "
   ]
  },
  {
   "cell_type": "code",
   "execution_count": 37,
   "id": "b1cee971",
   "metadata": {},
   "outputs": [
    {
     "data": {
      "text/plain": [
       "<matplotlib.legend.Legend at 0xda27e68>"
      ]
     },
     "execution_count": 37,
     "metadata": {},
     "output_type": "execute_result"
    },
    {
     "data": {
      "image/png": "[encoded data removed]",
      "text/plain": [
       "<Figure size 360x432 with 1 Axes>"
      ]
     },
     "metadata": {
      "needs_background": "light"
     },
     "output_type": "display_data"
    }
   ],
   "source": [
    "fig=plt.figure(figsize=(5,6))\n",
    "axes1=fig.add_subplot(1,1,1)\n",
    "axes1.hist([df_sun,df_sat],color=[\"green\",\"blue\"], label=[\"Sunday\",\"Saturday\"])\n",
    "axes1.legend()"
   ]
  },
  {
   "cell_type": "markdown",
   "id": "e81d3182",
   "metadata": {},
   "source": [
    "    In the above code when compared to sunday and saturday . saturday is the highest sale"
   ]
  },
  {
   "cell_type": "markdown",
   "id": "6d3f1d3d",
   "metadata": {},
   "source": [
    "### 19. Do u think when table size is increased we receive higher tiotal bills and tip values?"
   ]
  },
  {
   "cell_type": "code",
   "execution_count": 38,
   "id": "645c04c3",
   "metadata": {},
   "outputs": [
    {
     "name": "stderr",
     "output_type": "stream",
     "text": [
      "C:\\Users\\SRAM2\\AppData\\Local\\Temp/ipykernel_4216/1460362144.py:1: FutureWarning: Indexing with multiple keys (implicitly converted to a tuple of keys) will be deprecated, use a list instead.\n",
      "  df.groupby(\"size\")[\"total_bill\",\"tip\"].mean()\n"
     ]
    },
    {
     "data": {
      "text/html": [
       "<div>\n",
       "<style scoped>\n",
       "    .dataframe tbody tr th:only-of-type {\n",
       "        vertical-align: middle;\n",
       "    }\n",
       "\n",
       "    .dataframe tbody tr th {\n",
       "        vertical-align: top;\n",
       "    }\n",
       "\n",
       "    .dataframe thead th {\n",
       "        text-align: right;\n",
       "    }\n",
       "</style>\n",
       "<table border=\"1\" class=\"dataframe\">\n",
       "  <thead>\n",
       "    <tr style=\"text-align: right;\">\n",
       "      <th></th>\n",
       "      <th>total_bill</th>\n",
       "      <th>tip</th>\n",
       "    </tr>\n",
       "    <tr>\n",
       "      <th>size</th>\n",
       "      <th></th>\n",
       "      <th></th>\n",
       "    </tr>\n",
       "  </thead>\n",
       "  <tbody>\n",
       "    <tr>\n",
       "      <th>1</th>\n",
       "      <td>7.242500</td>\n",
       "      <td>1.437500</td>\n",
       "    </tr>\n",
       "    <tr>\n",
       "      <th>2</th>\n",
       "      <td>16.448013</td>\n",
       "      <td>2.582308</td>\n",
       "    </tr>\n",
       "    <tr>\n",
       "      <th>3</th>\n",
       "      <td>23.277632</td>\n",
       "      <td>3.393158</td>\n",
       "    </tr>\n",
       "    <tr>\n",
       "      <th>4</th>\n",
       "      <td>28.613514</td>\n",
       "      <td>4.135405</td>\n",
       "    </tr>\n",
       "    <tr>\n",
       "      <th>5</th>\n",
       "      <td>30.068000</td>\n",
       "      <td>4.028000</td>\n",
       "    </tr>\n",
       "    <tr>\n",
       "      <th>6</th>\n",
       "      <td>34.830000</td>\n",
       "      <td>5.225000</td>\n",
       "    </tr>\n",
       "  </tbody>\n",
       "</table>\n",
       "</div>"
      ],
      "text/plain": [
       "      total_bill       tip\n",
       "size                      \n",
       "1       7.242500  1.437500\n",
       "2      16.448013  2.582308\n",
       "3      23.277632  3.393158\n",
       "4      28.613514  4.135405\n",
       "5      30.068000  4.028000\n",
       "6      34.830000  5.225000"
      ]
     },
     "execution_count": 38,
     "metadata": {},
     "output_type": "execute_result"
    }
   ],
   "source": [
    "df.groupby(\"size\")[\"total_bill\",\"tip\"].mean()"
   ]
  },
  {
   "cell_type": "markdown",
   "id": "526c727b",
   "metadata": {},
   "source": [
    "    Yes when table size is increased we receive higher totalbills and tip values "
   ]
  },
  {
   "cell_type": "markdown",
   "id": "5a5871e8",
   "metadata": {},
   "source": [
    "### 20. Who loves smoking mostly and does that affect tip values when compared to non-smoking customers?"
   ]
  },
  {
   "cell_type": "code",
   "execution_count": 39,
   "id": "e1508988",
   "metadata": {},
   "outputs": [
    {
     "data": {
      "text/plain": [
       "smoker\n",
       "Yes    3.008710\n",
       "No     2.991854\n",
       "Name: tip, dtype: float64"
      ]
     },
     "execution_count": 39,
     "metadata": {},
     "output_type": "execute_result"
    }
   ],
   "source": [
    "df.groupby([\"smoker\"])[\"tip\"].mean() "
   ]
  },
  {
   "cell_type": "code",
   "execution_count": 40,
   "id": "dc8ec7ee",
   "metadata": {},
   "outputs": [
    {
     "data": {
      "text/plain": [
       "<AxesSubplot:xlabel='sex', ylabel='tip'>"
      ]
     },
     "execution_count": 40,
     "metadata": {},
     "output_type": "execute_result"
    },
    {
     "data": {
      "image/png": "[encoded data removed]",
      "text/plain": [
       "<Figure size 432x288 with 1 Axes>"
      ]
     },
     "metadata": {
      "needs_background": "light"
     },
     "output_type": "display_data"
    }
   ],
   "source": [
    "sns.boxplot(y=df[\"tip\"],x=df[\"sex\"],hue=df[\"smoker\"])"
   ]
  },
  {
   "cell_type": "markdown",
   "id": "4c77ba19",
   "metadata": {},
   "source": [
    "###  21.  During saturday's and sunday's which gender has received highest average value with respect to lunch and dinner?\n"
   ]
  },
  {
   "cell_type": "code",
   "execution_count": 41,
   "id": "970ce5fa",
   "metadata": {},
   "outputs": [
    {
     "data": {
      "text/plain": [
       "Series([], dtype: int64)"
      ]
     },
     "execution_count": 41,
     "metadata": {},
     "output_type": "execute_result"
    }
   ],
   "source": [
    "df[df[\"day\"] == \"sat\"][[\"sex\",\"time\"]].value_counts()"
   ]
  },
  {
   "cell_type": "code",
   "execution_count": 42,
   "id": "7a435650",
   "metadata": {},
   "outputs": [
    {
     "data": {
      "text/plain": [
       "Series([], dtype: int64)"
      ]
     },
     "execution_count": 42,
     "metadata": {},
     "output_type": "execute_result"
    }
   ],
   "source": [
    "df[df[\"day\"] == \"sun\"][[\"sex\",\"time\"]].value_counts()   "
   ]
  },
  {
   "cell_type": "code",
   "execution_count": 43,
   "id": "40a06468",
   "metadata": {},
   "outputs": [
    {
     "name": "stderr",
     "output_type": "stream",
     "text": [
      "C:\\Users\\SRAM2\\AppData\\Local\\Temp/ipykernel_4216/1945022267.py:1: FutureWarning: Indexing with multiple keys (implicitly converted to a tuple of keys) will be deprecated, use a list instead.\n",
      "  df.groupby(\"day\")[\"total_bill\",\"tip\"].describe()\n"
     ]
    },
    {
     "data": {
      "text/html": [
       "<div>\n",
       "<style scoped>\n",
       "    .dataframe tbody tr th:only-of-type {\n",
       "        vertical-align: middle;\n",
       "    }\n",
       "\n",
       "    .dataframe tbody tr th {\n",
       "        vertical-align: top;\n",
       "    }\n",
       "\n",
       "    .dataframe thead tr th {\n",
       "        text-align: left;\n",
       "    }\n",
       "\n",
       "    .dataframe thead tr:last-of-type th {\n",
       "        text-align: right;\n",
       "    }\n",
       "</style>\n",
       "<table border=\"1\" class=\"dataframe\">\n",
       "  <thead>\n",
       "    <tr>\n",
       "      <th></th>\n",
       "      <th colspan=\"8\" halign=\"left\">total_bill</th>\n",
       "      <th colspan=\"8\" halign=\"left\">tip</th>\n",
       "    </tr>\n",
       "    <tr>\n",
       "      <th></th>\n",
       "      <th>count</th>\n",
       "      <th>mean</th>\n",
       "      <th>std</th>\n",
       "      <th>min</th>\n",
       "      <th>25%</th>\n",
       "      <th>50%</th>\n",
       "      <th>75%</th>\n",
       "      <th>max</th>\n",
       "      <th>count</th>\n",
       "      <th>mean</th>\n",
       "      <th>std</th>\n",
       "      <th>min</th>\n",
       "      <th>25%</th>\n",
       "      <th>50%</th>\n",
       "      <th>75%</th>\n",
       "      <th>max</th>\n",
       "    </tr>\n",
       "    <tr>\n",
       "      <th>day</th>\n",
       "      <th></th>\n",
       "      <th></th>\n",
       "      <th></th>\n",
       "      <th></th>\n",
       "      <th></th>\n",
       "      <th></th>\n",
       "      <th></th>\n",
       "      <th></th>\n",
       "      <th></th>\n",
       "      <th></th>\n",
       "      <th></th>\n",
       "      <th></th>\n",
       "      <th></th>\n",
       "      <th></th>\n",
       "      <th></th>\n",
       "      <th></th>\n",
       "    </tr>\n",
       "  </thead>\n",
       "  <tbody>\n",
       "    <tr>\n",
       "      <th>Thur</th>\n",
       "      <td>62.0</td>\n",
       "      <td>17.682742</td>\n",
       "      <td>7.886170</td>\n",
       "      <td>7.51</td>\n",
       "      <td>12.4425</td>\n",
       "      <td>16.20</td>\n",
       "      <td>20.1550</td>\n",
       "      <td>43.11</td>\n",
       "      <td>62.0</td>\n",
       "      <td>2.771452</td>\n",
       "      <td>1.240223</td>\n",
       "      <td>1.25</td>\n",
       "      <td>2.0000</td>\n",
       "      <td>2.305</td>\n",
       "      <td>3.3625</td>\n",
       "      <td>6.70</td>\n",
       "    </tr>\n",
       "    <tr>\n",
       "      <th>Fri</th>\n",
       "      <td>19.0</td>\n",
       "      <td>17.151579</td>\n",
       "      <td>8.302660</td>\n",
       "      <td>5.75</td>\n",
       "      <td>12.0950</td>\n",
       "      <td>15.38</td>\n",
       "      <td>21.7500</td>\n",
       "      <td>40.17</td>\n",
       "      <td>19.0</td>\n",
       "      <td>2.734737</td>\n",
       "      <td>1.019577</td>\n",
       "      <td>1.00</td>\n",
       "      <td>1.9600</td>\n",
       "      <td>3.000</td>\n",
       "      <td>3.3650</td>\n",
       "      <td>4.73</td>\n",
       "    </tr>\n",
       "    <tr>\n",
       "      <th>Sat</th>\n",
       "      <td>87.0</td>\n",
       "      <td>20.441379</td>\n",
       "      <td>9.480419</td>\n",
       "      <td>3.07</td>\n",
       "      <td>13.9050</td>\n",
       "      <td>18.24</td>\n",
       "      <td>24.7400</td>\n",
       "      <td>50.81</td>\n",
       "      <td>87.0</td>\n",
       "      <td>2.993103</td>\n",
       "      <td>1.631014</td>\n",
       "      <td>1.00</td>\n",
       "      <td>2.0000</td>\n",
       "      <td>2.750</td>\n",
       "      <td>3.3700</td>\n",
       "      <td>10.00</td>\n",
       "    </tr>\n",
       "    <tr>\n",
       "      <th>Sun</th>\n",
       "      <td>76.0</td>\n",
       "      <td>21.410000</td>\n",
       "      <td>8.832122</td>\n",
       "      <td>7.25</td>\n",
       "      <td>14.9875</td>\n",
       "      <td>19.63</td>\n",
       "      <td>25.5975</td>\n",
       "      <td>48.17</td>\n",
       "      <td>76.0</td>\n",
       "      <td>3.255132</td>\n",
       "      <td>1.234880</td>\n",
       "      <td>1.01</td>\n",
       "      <td>2.0375</td>\n",
       "      <td>3.150</td>\n",
       "      <td>4.0000</td>\n",
       "      <td>6.50</td>\n",
       "    </tr>\n",
       "  </tbody>\n",
       "</table>\n",
       "</div>"
      ],
      "text/plain": [
       "     total_bill                                                             \\\n",
       "          count       mean       std   min      25%    50%      75%    max   \n",
       "day                                                                          \n",
       "Thur       62.0  17.682742  7.886170  7.51  12.4425  16.20  20.1550  43.11   \n",
       "Fri        19.0  17.151579  8.302660  5.75  12.0950  15.38  21.7500  40.17   \n",
       "Sat        87.0  20.441379  9.480419  3.07  13.9050  18.24  24.7400  50.81   \n",
       "Sun        76.0  21.410000  8.832122  7.25  14.9875  19.63  25.5975  48.17   \n",
       "\n",
       "       tip                                                          \n",
       "     count      mean       std   min     25%    50%     75%    max  \n",
       "day                                                                 \n",
       "Thur  62.0  2.771452  1.240223  1.25  2.0000  2.305  3.3625   6.70  \n",
       "Fri   19.0  2.734737  1.019577  1.00  1.9600  3.000  3.3650   4.73  \n",
       "Sat   87.0  2.993103  1.631014  1.00  2.0000  2.750  3.3700  10.00  \n",
       "Sun   76.0  3.255132  1.234880  1.01  2.0375  3.150  4.0000   6.50  "
      ]
     },
     "execution_count": 43,
     "metadata": {},
     "output_type": "execute_result"
    }
   ],
   "source": [
    "df.groupby(\"day\")[\"total_bill\",\"tip\"].describe()"
   ]
  },
  {
   "cell_type": "code",
   "execution_count": null,
   "id": "d0850374",
   "metadata": {},
   "outputs": [],
   "source": []
  },
  {
   "cell_type": "markdown",
   "id": "dc6bd50d",
   "metadata": {},
   "source": [
    "###  24.  Find the gender for max tip with minimum total bill value and min tip with max total bill  value"
   ]
  },
  {
   "cell_type": "code",
   "execution_count": 44,
   "id": "911aaf53",
   "metadata": {},
   "outputs": [
    {
     "data": {
      "text/plain": [
       "sex     smoker\n",
       "Male    Yes       3.051167\n",
       "        No        3.113402\n",
       "Female  Yes       2.931515\n",
       "        No        2.773519\n",
       "Name: tip, dtype: float64"
      ]
     },
     "execution_count": 44,
     "metadata": {},
     "output_type": "execute_result"
    }
   ],
   "source": [
    "df.groupby([\"sex\",\"smoker\"])[\"tip\"].mean()"
   ]
  },
  {
   "cell_type": "markdown",
   "id": "b09c4bf3",
   "metadata": {},
   "source": [
    "      Female gender for max tip with min total bill and min tip with max total bill is 2 and male gender has 3"
   ]
  },
  {
   "cell_type": "markdown",
   "id": "54fbd169",
   "metadata": {},
   "source": [
    "### 25.  Why do u feel sunday's total bill distribution is slightly higher than other days ? show plot and discuss"
   ]
  },
  {
   "cell_type": "code",
   "execution_count": null,
   "id": "5168f737",
   "metadata": {},
   "outputs": [],
   "source": [
    "sunday_1=df[df[\"day\"]==\"sun\"][\"total_bill\"]\n",
    "saturday_1=df[df[\"day\"]==\"sun\"][\"total_bill\"]\n",
    "thursday_1=df[df[\"day\"]==\"sun\"][\"total_bill\"]\n",
    "friday_1=df[df[\"day\"]==\"sun\"][\"total_bill\"]\n",
    "\n",
    "\n"
   ]
  },
  {
   "cell_type": "markdown",
   "id": "b763045d",
   "metadata": {},
   "source": [
    "### 29.  Show the totalbill averages of different days in the data? and plot the same data"
   ]
  },
  {
   "cell_type": "code",
   "execution_count": 45,
   "id": "de2359a8",
   "metadata": {},
   "outputs": [
    {
     "data": {
      "text/plain": [
       "day\n",
       "Thur    17.682742\n",
       "Fri     17.151579\n",
       "Sat     20.441379\n",
       "Sun     21.410000\n",
       "Name: total_bill, dtype: float64"
      ]
     },
     "execution_count": 45,
     "metadata": {},
     "output_type": "execute_result"
    }
   ],
   "source": [
    "df.groupby(\"day\")[\"total_bill\"].mean()\n"
   ]
  },
  {
   "cell_type": "markdown",
   "id": "502c05f7",
   "metadata": {},
   "source": [
    "    In the above code we shown the totalbill averages"
   ]
  },
  {
   "cell_type": "code",
   "execution_count": 46,
   "id": "c7726923",
   "metadata": {},
   "outputs": [
    {
     "data": {
      "text/plain": [
       "<seaborn.axisgrid.FacetGrid at 0xb85ac0>"
      ]
     },
     "execution_count": 46,
     "metadata": {},
     "output_type": "execute_result"
    },
    {
     "data": {
      "image/png": "[encoded data removed]",
      "text/plain": [
       "<Figure size 1440x360 with 4 Axes>"
      ]
     },
     "metadata": {
      "needs_background": "light"
     },
     "output_type": "display_data"
    }
   ],
   "source": [
    "sns.displot(data=df, x=\"total_bill\", col=\"day\", kde=True)\n"
   ]
  },
  {
   "cell_type": "markdown",
   "id": "1be3f1cf",
   "metadata": {},
   "source": [
    "### 30. what is meant by broadcasting the data?"
   ]
  },
  {
   "cell_type": "markdown",
   "id": "45e2489e",
   "metadata": {},
   "source": [
    "    Broadcasting is simply a set of rules for applying binary functions(eg. addition, substraction, multiplication, etc.)\n",
    "    on arrays of different sizes"
   ]
  },
  {
   "cell_type": "markdown",
   "id": "9b76a5e8",
   "metadata": {},
   "source": [
    "### 31.  What is meant by scalar operation? and show a example."
   ]
  },
  {
   "cell_type": "code",
   "execution_count": 47,
   "id": "3bd11158",
   "metadata": {},
   "outputs": [
    {
     "data": {
      "text/plain": [
       "0      1.699\n",
       "1      1.034\n",
       "2      2.101\n",
       "3      2.368\n",
       "4      2.459\n",
       "       ...  \n",
       "239    2.903\n",
       "240    2.718\n",
       "241    2.267\n",
       "242    1.782\n",
       "243    1.878\n",
       "Name: total_bill, Length: 244, dtype: float64"
      ]
     },
     "execution_count": 47,
     "metadata": {},
     "output_type": "execute_result"
    }
   ],
   "source": [
    "df[\"total_bill\"]/10   "
   ]
  },
  {
   "cell_type": "markdown",
   "id": "ff74017f",
   "metadata": {},
   "source": [
    "### 32.  Group the data based on \"sex\" variable and find the ir averages and plot the same. "
   ]
  },
  {
   "cell_type": "code",
   "execution_count": 48,
   "id": "f5668c1a",
   "metadata": {},
   "outputs": [
    {
     "name": "stderr",
     "output_type": "stream",
     "text": [
      "C:\\Users\\SRAM2\\AppData\\Local\\Temp/ipykernel_4216/1636465842.py:1: FutureWarning: Indexing with multiple keys (implicitly converted to a tuple of keys) will be deprecated, use a list instead.\n",
      "  df.groupby(\"sex\")[\"total_bill\",\"tip\"].mean()\n"
     ]
    },
    {
     "data": {
      "text/html": [
       "<div>\n",
       "<style scoped>\n",
       "    .dataframe tbody tr th:only-of-type {\n",
       "        vertical-align: middle;\n",
       "    }\n",
       "\n",
       "    .dataframe tbody tr th {\n",
       "        vertical-align: top;\n",
       "    }\n",
       "\n",
       "    .dataframe thead th {\n",
       "        text-align: right;\n",
       "    }\n",
       "</style>\n",
       "<table border=\"1\" class=\"dataframe\">\n",
       "  <thead>\n",
       "    <tr style=\"text-align: right;\">\n",
       "      <th></th>\n",
       "      <th>total_bill</th>\n",
       "      <th>tip</th>\n",
       "    </tr>\n",
       "    <tr>\n",
       "      <th>sex</th>\n",
       "      <th></th>\n",
       "      <th></th>\n",
       "    </tr>\n",
       "  </thead>\n",
       "  <tbody>\n",
       "    <tr>\n",
       "      <th>Male</th>\n",
       "      <td>20.744076</td>\n",
       "      <td>3.089618</td>\n",
       "    </tr>\n",
       "    <tr>\n",
       "      <th>Female</th>\n",
       "      <td>18.056897</td>\n",
       "      <td>2.833448</td>\n",
       "    </tr>\n",
       "  </tbody>\n",
       "</table>\n",
       "</div>"
      ],
      "text/plain": [
       "        total_bill       tip\n",
       "sex                         \n",
       "Male     20.744076  3.089618\n",
       "Female   18.056897  2.833448"
      ]
     },
     "execution_count": 48,
     "metadata": {},
     "output_type": "execute_result"
    }
   ],
   "source": [
    "df.groupby(\"sex\")[\"total_bill\",\"tip\"].mean()"
   ]
  },
  {
   "cell_type": "markdown",
   "id": "749467e6",
   "metadata": {},
   "source": [
    "### 33.  How do u deterine if two variables are highly or lowly corerelated?"
   ]
  },
  {
   "cell_type": "markdown",
   "id": "1b112457",
   "metadata": {},
   "source": [
    "\n",
    "       Correlation coefficients are indicators of the strength of the linear relationship between two different variables, x,and y.\n",
    "    A linear correlation coefficient that is greater than zero indicates a positive relationship.\n",
    "    A value that is less than zero signifies a negative relationship.\n"
   ]
  },
  {
   "cell_type": "markdown",
   "id": "60affd04",
   "metadata": {},
   "source": [
    "### 34.  What table is chosen when total_bill value is exactly dollar 13.42 dollars and gender is female?"
   ]
  },
  {
   "cell_type": "code",
   "execution_count": 50,
   "id": "65606758",
   "metadata": {},
   "outputs": [],
   "source": [
    "df_1=df[((df[\"total_bill\"] == 13.42) & (df[\"sex\"] == \"Female\"))]\n"
   ]
  },
  {
   "cell_type": "code",
   "execution_count": 51,
   "id": "c64f94bd",
   "metadata": {},
   "outputs": [
    {
     "data": {
      "text/html": [
       "<div>\n",
       "<style scoped>\n",
       "    .dataframe tbody tr th:only-of-type {\n",
       "        vertical-align: middle;\n",
       "    }\n",
       "\n",
       "    .dataframe tbody tr th {\n",
       "        vertical-align: top;\n",
       "    }\n",
       "\n",
       "    .dataframe thead th {\n",
       "        text-align: right;\n",
       "    }\n",
       "</style>\n",
       "<table border=\"1\" class=\"dataframe\">\n",
       "  <thead>\n",
       "    <tr style=\"text-align: right;\">\n",
       "      <th></th>\n",
       "      <th>total_bill</th>\n",
       "      <th>tip</th>\n",
       "      <th>sex</th>\n",
       "      <th>smoker</th>\n",
       "      <th>day</th>\n",
       "      <th>time</th>\n",
       "      <th>size</th>\n",
       "    </tr>\n",
       "  </thead>\n",
       "  <tbody>\n",
       "    <tr>\n",
       "      <th>121</th>\n",
       "      <td>13.42</td>\n",
       "      <td>1.68</td>\n",
       "      <td>Female</td>\n",
       "      <td>No</td>\n",
       "      <td>Thur</td>\n",
       "      <td>Lunch</td>\n",
       "      <td>2</td>\n",
       "    </tr>\n",
       "    <tr>\n",
       "      <th>221</th>\n",
       "      <td>13.42</td>\n",
       "      <td>3.48</td>\n",
       "      <td>Female</td>\n",
       "      <td>Yes</td>\n",
       "      <td>Fri</td>\n",
       "      <td>Lunch</td>\n",
       "      <td>2</td>\n",
       "    </tr>\n",
       "  </tbody>\n",
       "</table>\n",
       "</div>"
      ],
      "text/plain": [
       "     total_bill   tip     sex smoker   day   time  size\n",
       "121       13.42  1.68  Female     No  Thur  Lunch     2\n",
       "221       13.42  3.48  Female    Yes   Fri  Lunch     2"
      ]
     },
     "execution_count": 51,
     "metadata": {},
     "output_type": "execute_result"
    }
   ],
   "source": [
    "df_1"
   ]
  },
  {
   "cell_type": "markdown",
   "id": "b4576b42",
   "metadata": {},
   "source": [
    "    When totalbill value  is 13.42  dollar exactly and gender is female the table 2 is chosen"
   ]
  },
  {
   "cell_type": "markdown",
   "id": "b50b6402",
   "metadata": {},
   "source": [
    "### 35. What is the mostly preferred time when table size is 5?"
   ]
  },
  {
   "cell_type": "code",
   "execution_count": 52,
   "id": "a85b8092",
   "metadata": {},
   "outputs": [
    {
     "data": {
      "text/plain": [
       "Dinner    4\n",
       "Lunch     1\n",
       "Name: time, dtype: int64"
      ]
     },
     "execution_count": 52,
     "metadata": {},
     "output_type": "execute_result"
    }
   ],
   "source": [
    "df[df[\"size\"] == 5][\"time\"].value_counts()"
   ]
  },
  {
   "cell_type": "code",
   "execution_count": 53,
   "id": "112ad84d",
   "metadata": {},
   "outputs": [
    {
     "data": {
      "text/plain": [
       "0    Dinner\n",
       "Name: time, dtype: category\n",
       "Categories (2, object): ['Lunch', 'Dinner']"
      ]
     },
     "execution_count": 53,
     "metadata": {},
     "output_type": "execute_result"
    }
   ],
   "source": [
    "df[df[\"size\"] == 5][\"time\"].mode()"
   ]
  },
  {
   "cell_type": "markdown",
   "id": "5eac3f28",
   "metadata": {},
   "source": [
    "    Dinner is the mostly preferred time when table size is 5"
   ]
  },
  {
   "cell_type": "markdown",
   "id": "d36e0977",
   "metadata": {},
   "source": [
    "### 36.  Which day is mostly preferred when table size is 4?"
   ]
  },
  {
   "cell_type": "code",
   "execution_count": 54,
   "id": "2b7b0821",
   "metadata": {},
   "outputs": [
    {
     "data": {
      "text/plain": [
       "Sun     18\n",
       "Sat     13\n",
       "Thur     5\n",
       "Fri      1\n",
       "Name: day, dtype: int64"
      ]
     },
     "execution_count": 54,
     "metadata": {},
     "output_type": "execute_result"
    }
   ],
   "source": [
    "df[df[\"size\"] == 4][\"day\"].value_counts()"
   ]
  },
  {
   "cell_type": "code",
   "execution_count": 55,
   "id": "5debe45a",
   "metadata": {},
   "outputs": [
    {
     "data": {
      "text/plain": [
       "0    Sun\n",
       "Name: day, dtype: category\n",
       "Categories (4, object): ['Thur', 'Fri', 'Sat', 'Sun']"
      ]
     },
     "execution_count": 55,
     "metadata": {},
     "output_type": "execute_result"
    }
   ],
   "source": [
    "df[df[\"size\"] == 4][\"day\"].mode()"
   ]
  },
  {
   "cell_type": "markdown",
   "id": "5f49dca9",
   "metadata": {},
   "source": [
    "    Sunday is mostly preferred when table size is 4"
   ]
  },
  {
   "cell_type": "markdown",
   "id": "da71ddbd",
   "metadata": {},
   "source": [
    "### 37.   When it's saturday's, which  two table  sizes are  mostly preferred?"
   ]
  },
  {
   "cell_type": "code",
   "execution_count": 56,
   "id": "21fe43a1",
   "metadata": {},
   "outputs": [
    {
     "data": {
      "text/plain": [
       "2    53\n",
       "3    18\n",
       "4    13\n",
       "1     2\n",
       "5     1\n",
       "Name: size, dtype: int64"
      ]
     },
     "execution_count": 56,
     "metadata": {},
     "output_type": "execute_result"
    }
   ],
   "source": [
    "df[df[\"day\"] == \"Sat\"][\"size\"].value_counts()"
   ]
  },
  {
   "cell_type": "markdown",
   "id": "37e02848",
   "metadata": {},
   "source": [
    "    In the above data when it's saturday 2 & 3 tables are mostly preferred"
   ]
  },
  {
   "cell_type": "markdown",
   "id": "85558aac",
   "metadata": {},
   "source": [
    "### 38. Which day is more preferred for lunch time>"
   ]
  },
  {
   "cell_type": "code",
   "execution_count": 57,
   "id": "502a6c0c",
   "metadata": {},
   "outputs": [
    {
     "data": {
      "text/plain": [
       "0    Thur\n",
       "Name: day, dtype: category\n",
       "Categories (4, object): ['Thur', 'Fri', 'Sat', 'Sun']"
      ]
     },
     "execution_count": 57,
     "metadata": {},
     "output_type": "execute_result"
    }
   ],
   "source": [
    "df[df[\"time\"] == \"Lunch\"][\"day\"].mode()\n"
   ]
  },
  {
   "cell_type": "markdown",
   "id": "2a8fff63",
   "metadata": {},
   "source": [
    "    Thursday is the more preferred for lunch time "
   ]
  },
  {
   "cell_type": "markdown",
   "id": "d8843ed8",
   "metadata": {},
   "source": [
    "### 39. Which day is more preferred for lunch by female group?"
   ]
  },
  {
   "cell_type": "code",
   "execution_count": 58,
   "id": "34f22799",
   "metadata": {},
   "outputs": [
    {
     "data": {
      "text/plain": [
       "Thur    32\n",
       "Sat     28\n",
       "Sun     18\n",
       "Fri      9\n",
       "Name: day, dtype: int64"
      ]
     },
     "execution_count": 58,
     "metadata": {},
     "output_type": "execute_result"
    }
   ],
   "source": [
    "df[df[\"sex\"] == \"Female\"][\"day\"].value_counts()"
   ]
  },
  {
   "cell_type": "markdown",
   "id": "b54c0bf9",
   "metadata": {},
   "source": [
    "    Thursday is the most preferred lunch by female group"
   ]
  },
  {
   "cell_type": "markdown",
   "id": "5228d96b",
   "metadata": {},
   "source": [
    "### 40.  Please explain the significance role of  scatter plot?"
   ]
  },
  {
   "cell_type": "markdown",
   "id": "766656c7",
   "metadata": {},
   "source": [
    "       A scatter plot is a set of points plotted on a horizontal and vertical axes.\n",
    "    Scatter plots are important in statistics because they can show the extent of correlation,\n",
    "    if any, between the values of observed quantities or phenomena (called variables).\n",
    "    If no correlation exists between the variables, the points appear randomly scattered on the coordinate plane.\n",
    "    If a large correlation exists, the points concentrate near a straight line. \n",
    "       Scatter plots are useful data visualization tools for illustrating a trend."
   ]
  },
  {
   "cell_type": "markdown",
   "id": "a7b56a8e",
   "metadata": {},
   "source": [
    "    "
   ]
  },
  {
   "cell_type": "markdown",
   "id": "b54ac0f4",
   "metadata": {},
   "source": [
    "### 41.  How much each value of total_bill is far from it's mean? "
   ]
  },
  {
   "cell_type": "code",
   "execution_count": 63,
   "id": "6b3940c5",
   "metadata": {},
   "outputs": [
    {
     "data": {
      "text/plain": [
       "array([ 2.79594262e+00,  9.44594262e+00, -1.22405738e+00, -3.89405738e+00,\n",
       "       -4.80405738e+00, -5.50405738e+00,  1.10159426e+01, -7.09405738e+00,\n",
       "        4.74594262e+00,  5.00594262e+00,  9.51594262e+00, -1.54740574e+01,\n",
       "        4.36594262e+00,  1.35594262e+00,  4.95594262e+00, -1.79405738e+00,\n",
       "        9.45594262e+00,  3.49594262e+00,  2.81594262e+00, -8.64057377e-01,\n",
       "        1.86594262e+00, -5.04057377e-01,  4.01594262e+00, -1.96340574e+01,\n",
       "       -3.40573770e-02,  1.97594262e+00,  6.41594262e+00,  7.09594262e+00,\n",
       "       -1.91405738e+00,  1.35942623e-01,  1.02359426e+01,  1.43594262e+00,\n",
       "        4.72594262e+00, -9.04057377e-01,  2.00594262e+00, -4.27405738e+00,\n",
       "        3.47594262e+00,  2.85594262e+00,  1.09594262e+00, -1.14840574e+01,\n",
       "        3.74594262e+00,  2.32594262e+00,  5.84594262e+00,  1.01059426e+01,\n",
       "       -1.06140574e+01,  1.49594262e+00, -2.44405738e+00, -1.26140574e+01,\n",
       "       -8.76405738e+00,  1.74594262e+00,  7.24594262e+00,  9.49594262e+00,\n",
       "       -1.50240574e+01,  9.84594262e+00, -5.77405738e+00,  2.95942623e-01,\n",
       "       -1.82240574e+01, -6.62405738e+00,  8.54594262e+00, -2.84840574e+01,\n",
       "        5.97594262e+00,  8.76594262e+00,  2.19594262e+00, -2.94057377e-01,\n",
       "        3.33594262e+00,  1.67159426e+01, -4.44057377e-01,  4.77594262e+00,\n",
       "        7.76594262e+00,  2.71594262e+00, -7.07405738e+00, -5.49405738e+00,\n",
       "        5.05594262e+00,  9.27594262e+00, -7.41405738e+00, -2.97405738e+00,\n",
       "        2.49594262e+00,  3.45942623e-01,  3.12594262e+00,  9.71594262e+00,\n",
       "       -1.28940574e+01,  3.80594262e+00, -1.50440574e+01,  6.75594262e+00,\n",
       "        1.50594262e+00, -4.92405738e+00, -1.37405738e+00, -9.18405738e+00,\n",
       "       -2.70405738e+00,  1.40359426e+01,  3.46594262e+00, -2.96405738e+00,\n",
       "       -2.03840574e+01, -7.49405738e+00,  7.75594262e+00,  7.32594262e+00,\n",
       "        8.43594262e+00,  4.40594262e+00, -2.45140574e+01, -2.63405738e+00,\n",
       "       -1.13405738e+00,  4.42594262e+00, -7.04057377e-01, -5.42405738e+00,\n",
       "        1.54594262e+00,  5.47594262e+00,  5.78594262e+00,  1.25359426e+01,\n",
       "       -1.82840574e+01, -4.16405738e+00, -5.92405738e+00,  2.47594262e+00,\n",
       "       -1.01440574e+01,  9.13594262e+00,  7.35594262e+00, -4.29405738e+00,\n",
       "        8.09594262e+00,  6.36594262e+00,  5.52594262e+00,  3.83594262e+00,\n",
       "        7.30594262e+00, -1.00140574e+01,  1.12659426e+01,  5.26594262e+00,\n",
       "        8.40594262e+00, -3.03405738e+00,  7.05942623e-01, -4.84057377e-01,\n",
       "        8.61594262e+00,  7.52594262e+00,  1.52594262e+00,  1.12759426e+01,\n",
       "        5.63594262e+00,  3.78594262e+00,  6.62594262e+00,  2.31594262e+00,\n",
       "       -1.45140574e+01, -2.14040574e+01, -7.26405738e+00,  3.35594262e+00,\n",
       "        1.14359426e+01,  1.14594262e+00,  7.91594262e+00,  1.00059426e+01,\n",
       "        1.22759426e+01,  5.71594262e+00,  6.65594262e+00,  2.52594262e+00,\n",
       "       -4.76405738e+00,  1.59426230e-02, -1.00640574e+01, -2.83840574e+01,\n",
       "       -5.21405738e+00,  6.39594262e+00,  3.29594262e+00, -1.71405738e+00,\n",
       "        7.12594262e+00,  3.57594262e+00,  2.27594262e+00, -4.73405738e+00,\n",
       "       -9.74057377e-01, -1.19240574e+01,  9.19594262e+00,  9.15594262e+00,\n",
       "       -3.10240574e+01,  3.97594262e+00, -1.20640574e+01,  2.96594262e+00,\n",
       "       -1.31140574e+01,  1.89594262e+00,  5.30594262e+00,  1.01859426e+01,\n",
       "       -1.48440574e+01, -1.48640574e+01, -3.54405738e+00, -2.55640574e+01,\n",
       "       -3.38405738e+00, -2.07640574e+01, -1.11405738e+00, -1.06740574e+01,\n",
       "        1.63594262e+00, -3.31405738e+00,  4.09594262e+00, -2.40573770e-02,\n",
       "       -8.65405738e+00,  4.30594262e+00,  3.20594262e+00,  1.22259426e+01,\n",
       "       -2.33240574e+01,  6.78594262e+00,  6.27594262e+00,  1.07594262e+00,\n",
       "        7.04594262e+00,  3.38594262e+00, -7.44057377e-01,  3.31594262e+00,\n",
       "       -6.80405738e+00, -1.89440574e+01, -4.48405738e+00,  7.02594262e+00,\n",
       "       -1.02740574e+01, -6.10405738e+00, -2.85440574e+01,  6.51594262e+00,\n",
       "       -8.38405738e+00,  6.88594262e+00, -8.36405738e+00,  8.19594262e+00,\n",
       "        1.20459426e+01, -1.03540574e+01,  7.62594262e+00,  1.12059426e+01,\n",
       "        3.51594262e+00,  9.69594262e+00, -6.64057377e-01,  6.50594262e+00,\n",
       "       -2.33405738e+00, -4.22405738e+00,  8.17594262e+00,  9.01594262e+00,\n",
       "        4.25594262e+00,  7.18594262e+00, -1.30440574e+01, -1.60440574e+01,\n",
       "       -9.24405738e+00, -7.39405738e+00, -2.88405738e+00,  1.96594262e+00,\n",
       "        1.00594262e+00])"
      ]
     },
     "execution_count": 63,
     "metadata": {},
     "output_type": "execute_result"
    }
   ],
   "source": [
    "df[\"total_bill\"].mean()-df[\"total_bill\"].unique()"
   ]
  },
  {
   "cell_type": "markdown",
   "id": "dcb1ed66",
   "metadata": {},
   "source": [
    "### 42. Can u take random sample of 50 observations without changing it's state from this data?"
   ]
  },
  {
   "cell_type": "code",
   "execution_count": 64,
   "id": "7cfaefd7",
   "metadata": {},
   "outputs": [
    {
     "data": {
      "text/html": [
       "<div>\n",
       "<style scoped>\n",
       "    .dataframe tbody tr th:only-of-type {\n",
       "        vertical-align: middle;\n",
       "    }\n",
       "\n",
       "    .dataframe tbody tr th {\n",
       "        vertical-align: top;\n",
       "    }\n",
       "\n",
       "    .dataframe thead th {\n",
       "        text-align: right;\n",
       "    }\n",
       "</style>\n",
       "<table border=\"1\" class=\"dataframe\">\n",
       "  <thead>\n",
       "    <tr style=\"text-align: right;\">\n",
       "      <th></th>\n",
       "      <th>total_bill</th>\n",
       "      <th>tip</th>\n",
       "      <th>sex</th>\n",
       "      <th>smoker</th>\n",
       "      <th>day</th>\n",
       "      <th>time</th>\n",
       "      <th>size</th>\n",
       "    </tr>\n",
       "  </thead>\n",
       "  <tbody>\n",
       "    <tr>\n",
       "      <th>103</th>\n",
       "      <td>22.42</td>\n",
       "      <td>3.48</td>\n",
       "      <td>Female</td>\n",
       "      <td>Yes</td>\n",
       "      <td>Sat</td>\n",
       "      <td>Dinner</td>\n",
       "      <td>2</td>\n",
       "    </tr>\n",
       "    <tr>\n",
       "      <th>215</th>\n",
       "      <td>12.90</td>\n",
       "      <td>1.10</td>\n",
       "      <td>Female</td>\n",
       "      <td>Yes</td>\n",
       "      <td>Sat</td>\n",
       "      <td>Dinner</td>\n",
       "      <td>2</td>\n",
       "    </tr>\n",
       "    <tr>\n",
       "      <th>144</th>\n",
       "      <td>16.43</td>\n",
       "      <td>2.30</td>\n",
       "      <td>Female</td>\n",
       "      <td>No</td>\n",
       "      <td>Thur</td>\n",
       "      <td>Lunch</td>\n",
       "      <td>2</td>\n",
       "    </tr>\n",
       "    <tr>\n",
       "      <th>68</th>\n",
       "      <td>20.23</td>\n",
       "      <td>2.01</td>\n",
       "      <td>Male</td>\n",
       "      <td>No</td>\n",
       "      <td>Sat</td>\n",
       "      <td>Dinner</td>\n",
       "      <td>2</td>\n",
       "    </tr>\n",
       "    <tr>\n",
       "      <th>112</th>\n",
       "      <td>38.07</td>\n",
       "      <td>4.00</td>\n",
       "      <td>Male</td>\n",
       "      <td>No</td>\n",
       "      <td>Sun</td>\n",
       "      <td>Dinner</td>\n",
       "      <td>3</td>\n",
       "    </tr>\n",
       "    <tr>\n",
       "      <th>151</th>\n",
       "      <td>13.13</td>\n",
       "      <td>2.00</td>\n",
       "      <td>Male</td>\n",
       "      <td>No</td>\n",
       "      <td>Sun</td>\n",
       "      <td>Dinner</td>\n",
       "      <td>2</td>\n",
       "    </tr>\n",
       "    <tr>\n",
       "      <th>108</th>\n",
       "      <td>18.24</td>\n",
       "      <td>3.76</td>\n",
       "      <td>Male</td>\n",
       "      <td>No</td>\n",
       "      <td>Sat</td>\n",
       "      <td>Dinner</td>\n",
       "      <td>2</td>\n",
       "    </tr>\n",
       "    <tr>\n",
       "      <th>127</th>\n",
       "      <td>14.52</td>\n",
       "      <td>2.00</td>\n",
       "      <td>Female</td>\n",
       "      <td>No</td>\n",
       "      <td>Thur</td>\n",
       "      <td>Lunch</td>\n",
       "      <td>2</td>\n",
       "    </tr>\n",
       "    <tr>\n",
       "      <th>25</th>\n",
       "      <td>17.81</td>\n",
       "      <td>2.34</td>\n",
       "      <td>Male</td>\n",
       "      <td>No</td>\n",
       "      <td>Sat</td>\n",
       "      <td>Dinner</td>\n",
       "      <td>4</td>\n",
       "    </tr>\n",
       "    <tr>\n",
       "      <th>77</th>\n",
       "      <td>27.20</td>\n",
       "      <td>4.00</td>\n",
       "      <td>Male</td>\n",
       "      <td>No</td>\n",
       "      <td>Thur</td>\n",
       "      <td>Lunch</td>\n",
       "      <td>4</td>\n",
       "    </tr>\n",
       "    <tr>\n",
       "      <th>102</th>\n",
       "      <td>44.30</td>\n",
       "      <td>2.50</td>\n",
       "      <td>Female</td>\n",
       "      <td>Yes</td>\n",
       "      <td>Sat</td>\n",
       "      <td>Dinner</td>\n",
       "      <td>3</td>\n",
       "    </tr>\n",
       "    <tr>\n",
       "      <th>125</th>\n",
       "      <td>29.80</td>\n",
       "      <td>4.20</td>\n",
       "      <td>Female</td>\n",
       "      <td>No</td>\n",
       "      <td>Thur</td>\n",
       "      <td>Lunch</td>\n",
       "      <td>6</td>\n",
       "    </tr>\n",
       "    <tr>\n",
       "      <th>15</th>\n",
       "      <td>21.58</td>\n",
       "      <td>3.92</td>\n",
       "      <td>Male</td>\n",
       "      <td>No</td>\n",
       "      <td>Sun</td>\n",
       "      <td>Dinner</td>\n",
       "      <td>2</td>\n",
       "    </tr>\n",
       "    <tr>\n",
       "      <th>0</th>\n",
       "      <td>16.99</td>\n",
       "      <td>1.01</td>\n",
       "      <td>Female</td>\n",
       "      <td>No</td>\n",
       "      <td>Sun</td>\n",
       "      <td>Dinner</td>\n",
       "      <td>2</td>\n",
       "    </tr>\n",
       "    <tr>\n",
       "      <th>13</th>\n",
       "      <td>18.43</td>\n",
       "      <td>3.00</td>\n",
       "      <td>Male</td>\n",
       "      <td>No</td>\n",
       "      <td>Sun</td>\n",
       "      <td>Dinner</td>\n",
       "      <td>4</td>\n",
       "    </tr>\n",
       "    <tr>\n",
       "      <th>187</th>\n",
       "      <td>30.46</td>\n",
       "      <td>2.00</td>\n",
       "      <td>Male</td>\n",
       "      <td>Yes</td>\n",
       "      <td>Sun</td>\n",
       "      <td>Dinner</td>\n",
       "      <td>5</td>\n",
       "    </tr>\n",
       "    <tr>\n",
       "      <th>19</th>\n",
       "      <td>20.65</td>\n",
       "      <td>3.35</td>\n",
       "      <td>Male</td>\n",
       "      <td>No</td>\n",
       "      <td>Sat</td>\n",
       "      <td>Dinner</td>\n",
       "      <td>3</td>\n",
       "    </tr>\n",
       "    <tr>\n",
       "      <th>63</th>\n",
       "      <td>18.29</td>\n",
       "      <td>3.76</td>\n",
       "      <td>Male</td>\n",
       "      <td>Yes</td>\n",
       "      <td>Sat</td>\n",
       "      <td>Dinner</td>\n",
       "      <td>4</td>\n",
       "    </tr>\n",
       "    <tr>\n",
       "      <th>111</th>\n",
       "      <td>7.25</td>\n",
       "      <td>1.00</td>\n",
       "      <td>Female</td>\n",
       "      <td>No</td>\n",
       "      <td>Sat</td>\n",
       "      <td>Dinner</td>\n",
       "      <td>1</td>\n",
       "    </tr>\n",
       "    <tr>\n",
       "      <th>174</th>\n",
       "      <td>16.82</td>\n",
       "      <td>4.00</td>\n",
       "      <td>Male</td>\n",
       "      <td>Yes</td>\n",
       "      <td>Sun</td>\n",
       "      <td>Dinner</td>\n",
       "      <td>2</td>\n",
       "    </tr>\n",
       "    <tr>\n",
       "      <th>221</th>\n",
       "      <td>13.42</td>\n",
       "      <td>3.48</td>\n",
       "      <td>Female</td>\n",
       "      <td>Yes</td>\n",
       "      <td>Fri</td>\n",
       "      <td>Lunch</td>\n",
       "      <td>2</td>\n",
       "    </tr>\n",
       "    <tr>\n",
       "      <th>198</th>\n",
       "      <td>13.00</td>\n",
       "      <td>2.00</td>\n",
       "      <td>Female</td>\n",
       "      <td>Yes</td>\n",
       "      <td>Thur</td>\n",
       "      <td>Lunch</td>\n",
       "      <td>2</td>\n",
       "    </tr>\n",
       "    <tr>\n",
       "      <th>189</th>\n",
       "      <td>23.10</td>\n",
       "      <td>4.00</td>\n",
       "      <td>Male</td>\n",
       "      <td>Yes</td>\n",
       "      <td>Sun</td>\n",
       "      <td>Dinner</td>\n",
       "      <td>3</td>\n",
       "    </tr>\n",
       "    <tr>\n",
       "      <th>238</th>\n",
       "      <td>35.83</td>\n",
       "      <td>4.67</td>\n",
       "      <td>Female</td>\n",
       "      <td>No</td>\n",
       "      <td>Sat</td>\n",
       "      <td>Dinner</td>\n",
       "      <td>3</td>\n",
       "    </tr>\n",
       "    <tr>\n",
       "      <th>199</th>\n",
       "      <td>13.51</td>\n",
       "      <td>2.00</td>\n",
       "      <td>Male</td>\n",
       "      <td>Yes</td>\n",
       "      <td>Thur</td>\n",
       "      <td>Lunch</td>\n",
       "      <td>2</td>\n",
       "    </tr>\n",
       "    <tr>\n",
       "      <th>208</th>\n",
       "      <td>24.27</td>\n",
       "      <td>2.03</td>\n",
       "      <td>Male</td>\n",
       "      <td>Yes</td>\n",
       "      <td>Sat</td>\n",
       "      <td>Dinner</td>\n",
       "      <td>2</td>\n",
       "    </tr>\n",
       "    <tr>\n",
       "      <th>214</th>\n",
       "      <td>28.17</td>\n",
       "      <td>6.50</td>\n",
       "      <td>Female</td>\n",
       "      <td>Yes</td>\n",
       "      <td>Sat</td>\n",
       "      <td>Dinner</td>\n",
       "      <td>3</td>\n",
       "    </tr>\n",
       "    <tr>\n",
       "      <th>156</th>\n",
       "      <td>48.17</td>\n",
       "      <td>5.00</td>\n",
       "      <td>Male</td>\n",
       "      <td>No</td>\n",
       "      <td>Sun</td>\n",
       "      <td>Dinner</td>\n",
       "      <td>6</td>\n",
       "    </tr>\n",
       "    <tr>\n",
       "      <th>126</th>\n",
       "      <td>8.52</td>\n",
       "      <td>1.48</td>\n",
       "      <td>Male</td>\n",
       "      <td>No</td>\n",
       "      <td>Thur</td>\n",
       "      <td>Lunch</td>\n",
       "      <td>2</td>\n",
       "    </tr>\n",
       "    <tr>\n",
       "      <th>14</th>\n",
       "      <td>14.83</td>\n",
       "      <td>3.02</td>\n",
       "      <td>Female</td>\n",
       "      <td>No</td>\n",
       "      <td>Sun</td>\n",
       "      <td>Dinner</td>\n",
       "      <td>2</td>\n",
       "    </tr>\n",
       "    <tr>\n",
       "      <th>142</th>\n",
       "      <td>41.19</td>\n",
       "      <td>5.00</td>\n",
       "      <td>Male</td>\n",
       "      <td>No</td>\n",
       "      <td>Thur</td>\n",
       "      <td>Lunch</td>\n",
       "      <td>5</td>\n",
       "    </tr>\n",
       "    <tr>\n",
       "      <th>157</th>\n",
       "      <td>25.00</td>\n",
       "      <td>3.75</td>\n",
       "      <td>Female</td>\n",
       "      <td>No</td>\n",
       "      <td>Sun</td>\n",
       "      <td>Dinner</td>\n",
       "      <td>4</td>\n",
       "    </tr>\n",
       "    <tr>\n",
       "      <th>40</th>\n",
       "      <td>16.04</td>\n",
       "      <td>2.24</td>\n",
       "      <td>Male</td>\n",
       "      <td>No</td>\n",
       "      <td>Sat</td>\n",
       "      <td>Dinner</td>\n",
       "      <td>3</td>\n",
       "    </tr>\n",
       "    <tr>\n",
       "      <th>161</th>\n",
       "      <td>12.66</td>\n",
       "      <td>2.50</td>\n",
       "      <td>Male</td>\n",
       "      <td>No</td>\n",
       "      <td>Sun</td>\n",
       "      <td>Dinner</td>\n",
       "      <td>2</td>\n",
       "    </tr>\n",
       "    <tr>\n",
       "      <th>51</th>\n",
       "      <td>10.29</td>\n",
       "      <td>2.60</td>\n",
       "      <td>Female</td>\n",
       "      <td>No</td>\n",
       "      <td>Sun</td>\n",
       "      <td>Dinner</td>\n",
       "      <td>2</td>\n",
       "    </tr>\n",
       "    <tr>\n",
       "      <th>26</th>\n",
       "      <td>13.37</td>\n",
       "      <td>2.00</td>\n",
       "      <td>Male</td>\n",
       "      <td>No</td>\n",
       "      <td>Sat</td>\n",
       "      <td>Dinner</td>\n",
       "      <td>2</td>\n",
       "    </tr>\n",
       "    <tr>\n",
       "      <th>168</th>\n",
       "      <td>10.59</td>\n",
       "      <td>1.61</td>\n",
       "      <td>Female</td>\n",
       "      <td>Yes</td>\n",
       "      <td>Sat</td>\n",
       "      <td>Dinner</td>\n",
       "      <td>2</td>\n",
       "    </tr>\n",
       "    <tr>\n",
       "      <th>233</th>\n",
       "      <td>10.77</td>\n",
       "      <td>1.47</td>\n",
       "      <td>Male</td>\n",
       "      <td>No</td>\n",
       "      <td>Sat</td>\n",
       "      <td>Dinner</td>\n",
       "      <td>2</td>\n",
       "    </tr>\n",
       "    <tr>\n",
       "      <th>84</th>\n",
       "      <td>15.98</td>\n",
       "      <td>2.03</td>\n",
       "      <td>Male</td>\n",
       "      <td>No</td>\n",
       "      <td>Thur</td>\n",
       "      <td>Lunch</td>\n",
       "      <td>2</td>\n",
       "    </tr>\n",
       "    <tr>\n",
       "      <th>78</th>\n",
       "      <td>22.76</td>\n",
       "      <td>3.00</td>\n",
       "      <td>Male</td>\n",
       "      <td>No</td>\n",
       "      <td>Thur</td>\n",
       "      <td>Lunch</td>\n",
       "      <td>2</td>\n",
       "    </tr>\n",
       "    <tr>\n",
       "      <th>29</th>\n",
       "      <td>19.65</td>\n",
       "      <td>3.00</td>\n",
       "      <td>Female</td>\n",
       "      <td>No</td>\n",
       "      <td>Sat</td>\n",
       "      <td>Dinner</td>\n",
       "      <td>2</td>\n",
       "    </tr>\n",
       "    <tr>\n",
       "      <th>169</th>\n",
       "      <td>10.63</td>\n",
       "      <td>2.00</td>\n",
       "      <td>Female</td>\n",
       "      <td>Yes</td>\n",
       "      <td>Sat</td>\n",
       "      <td>Dinner</td>\n",
       "      <td>2</td>\n",
       "    </tr>\n",
       "    <tr>\n",
       "      <th>165</th>\n",
       "      <td>24.52</td>\n",
       "      <td>3.48</td>\n",
       "      <td>Male</td>\n",
       "      <td>No</td>\n",
       "      <td>Sun</td>\n",
       "      <td>Dinner</td>\n",
       "      <td>3</td>\n",
       "    </tr>\n",
       "    <tr>\n",
       "      <th>48</th>\n",
       "      <td>28.55</td>\n",
       "      <td>2.05</td>\n",
       "      <td>Male</td>\n",
       "      <td>No</td>\n",
       "      <td>Sun</td>\n",
       "      <td>Dinner</td>\n",
       "      <td>3</td>\n",
       "    </tr>\n",
       "    <tr>\n",
       "      <th>64</th>\n",
       "      <td>17.59</td>\n",
       "      <td>2.64</td>\n",
       "      <td>Male</td>\n",
       "      <td>No</td>\n",
       "      <td>Sat</td>\n",
       "      <td>Dinner</td>\n",
       "      <td>3</td>\n",
       "    </tr>\n",
       "    <tr>\n",
       "      <th>178</th>\n",
       "      <td>9.60</td>\n",
       "      <td>4.00</td>\n",
       "      <td>Female</td>\n",
       "      <td>Yes</td>\n",
       "      <td>Sun</td>\n",
       "      <td>Dinner</td>\n",
       "      <td>2</td>\n",
       "    </tr>\n",
       "    <tr>\n",
       "      <th>154</th>\n",
       "      <td>19.77</td>\n",
       "      <td>2.00</td>\n",
       "      <td>Male</td>\n",
       "      <td>No</td>\n",
       "      <td>Sun</td>\n",
       "      <td>Dinner</td>\n",
       "      <td>4</td>\n",
       "    </tr>\n",
       "    <tr>\n",
       "      <th>197</th>\n",
       "      <td>43.11</td>\n",
       "      <td>5.00</td>\n",
       "      <td>Female</td>\n",
       "      <td>Yes</td>\n",
       "      <td>Thur</td>\n",
       "      <td>Lunch</td>\n",
       "      <td>4</td>\n",
       "    </tr>\n",
       "    <tr>\n",
       "      <th>243</th>\n",
       "      <td>18.78</td>\n",
       "      <td>3.00</td>\n",
       "      <td>Female</td>\n",
       "      <td>No</td>\n",
       "      <td>Thur</td>\n",
       "      <td>Dinner</td>\n",
       "      <td>2</td>\n",
       "    </tr>\n",
       "    <tr>\n",
       "      <th>242</th>\n",
       "      <td>17.82</td>\n",
       "      <td>1.75</td>\n",
       "      <td>Male</td>\n",
       "      <td>No</td>\n",
       "      <td>Sat</td>\n",
       "      <td>Dinner</td>\n",
       "      <td>2</td>\n",
       "    </tr>\n",
       "  </tbody>\n",
       "</table>\n",
       "</div>"
      ],
      "text/plain": [
       "     total_bill   tip     sex smoker   day    time  size\n",
       "103       22.42  3.48  Female    Yes   Sat  Dinner     2\n",
       "215       12.90  1.10  Female    Yes   Sat  Dinner     2\n",
       "144       16.43  2.30  Female     No  Thur   Lunch     2\n",
       "68        20.23  2.01    Male     No   Sat  Dinner     2\n",
       "112       38.07  4.00    Male     No   Sun  Dinner     3\n",
       "151       13.13  2.00    Male     No   Sun  Dinner     2\n",
       "108       18.24  3.76    Male     No   Sat  Dinner     2\n",
       "127       14.52  2.00  Female     No  Thur   Lunch     2\n",
       "25        17.81  2.34    Male     No   Sat  Dinner     4\n",
       "77        27.20  4.00    Male     No  Thur   Lunch     4\n",
       "102       44.30  2.50  Female    Yes   Sat  Dinner     3\n",
       "125       29.80  4.20  Female     No  Thur   Lunch     6\n",
       "15        21.58  3.92    Male     No   Sun  Dinner     2\n",
       "0         16.99  1.01  Female     No   Sun  Dinner     2\n",
       "13        18.43  3.00    Male     No   Sun  Dinner     4\n",
       "187       30.46  2.00    Male    Yes   Sun  Dinner     5\n",
       "19        20.65  3.35    Male     No   Sat  Dinner     3\n",
       "63        18.29  3.76    Male    Yes   Sat  Dinner     4\n",
       "111        7.25  1.00  Female     No   Sat  Dinner     1\n",
       "174       16.82  4.00    Male    Yes   Sun  Dinner     2\n",
       "221       13.42  3.48  Female    Yes   Fri   Lunch     2\n",
       "198       13.00  2.00  Female    Yes  Thur   Lunch     2\n",
       "189       23.10  4.00    Male    Yes   Sun  Dinner     3\n",
       "238       35.83  4.67  Female     No   Sat  Dinner     3\n",
       "199       13.51  2.00    Male    Yes  Thur   Lunch     2\n",
       "208       24.27  2.03    Male    Yes   Sat  Dinner     2\n",
       "214       28.17  6.50  Female    Yes   Sat  Dinner     3\n",
       "156       48.17  5.00    Male     No   Sun  Dinner     6\n",
       "126        8.52  1.48    Male     No  Thur   Lunch     2\n",
       "14        14.83  3.02  Female     No   Sun  Dinner     2\n",
       "142       41.19  5.00    Male     No  Thur   Lunch     5\n",
       "157       25.00  3.75  Female     No   Sun  Dinner     4\n",
       "40        16.04  2.24    Male     No   Sat  Dinner     3\n",
       "161       12.66  2.50    Male     No   Sun  Dinner     2\n",
       "51        10.29  2.60  Female     No   Sun  Dinner     2\n",
       "26        13.37  2.00    Male     No   Sat  Dinner     2\n",
       "168       10.59  1.61  Female    Yes   Sat  Dinner     2\n",
       "233       10.77  1.47    Male     No   Sat  Dinner     2\n",
       "84        15.98  2.03    Male     No  Thur   Lunch     2\n",
       "78        22.76  3.00    Male     No  Thur   Lunch     2\n",
       "29        19.65  3.00  Female     No   Sat  Dinner     2\n",
       "169       10.63  2.00  Female    Yes   Sat  Dinner     2\n",
       "165       24.52  3.48    Male     No   Sun  Dinner     3\n",
       "48        28.55  2.05    Male     No   Sun  Dinner     3\n",
       "64        17.59  2.64    Male     No   Sat  Dinner     3\n",
       "178        9.60  4.00  Female    Yes   Sun  Dinner     2\n",
       "154       19.77  2.00    Male     No   Sun  Dinner     4\n",
       "197       43.11  5.00  Female    Yes  Thur   Lunch     4\n",
       "243       18.78  3.00  Female     No  Thur  Dinner     2\n",
       "242       17.82  1.75    Male     No   Sat  Dinner     2"
      ]
     },
     "execution_count": 64,
     "metadata": {},
     "output_type": "execute_result"
    }
   ],
   "source": [
    "df.sample(50,random_state = 24)"
   ]
  },
  {
   "cell_type": "markdown",
   "id": "c0cae057",
   "metadata": {},
   "source": [
    "### 43. Random pick 10 observations of total_bill with certain random state and return its highest total_bill value Repeat the process for 10 times and find it's average value"
   ]
  },
  {
   "cell_type": "code",
   "execution_count": 65,
   "id": "95d69c6a",
   "metadata": {},
   "outputs": [
    {
     "name": "stdout",
     "output_type": "stream",
     "text": [
      "10.33\n",
      "16.45\n",
      "11.69\n",
      "48.27\n",
      "16.4\n",
      "44.3\n",
      "18.64\n",
      "20.27\n",
      "11.61\n",
      "19.81\n"
     ]
    },
    {
     "data": {
      "text/plain": [
       "21.776999999999997"
      ]
     },
     "execution_count": 65,
     "metadata": {},
     "output_type": "execute_result"
    }
   ],
   "source": [
    "x = df[\"total_bill\"].sample(10)\n",
    "max(x)\n",
    "for i in x:\n",
    "    print(i)\n",
    "sum(x)/len(x)"
   ]
  },
  {
   "cell_type": "markdown",
   "id": "4faa99ad",
   "metadata": {},
   "source": [
    "### 45. Identify the data where total_bill and tip values are having atleast 10 dollars difference"
   ]
  },
  {
   "cell_type": "code",
   "execution_count": 66,
   "id": "075f1db7",
   "metadata": {},
   "outputs": [
    {
     "name": "stdout",
     "output_type": "stream",
     "text": [
      "Empty DataFrame\n",
      "Columns: [total_bill, tip, sex, smoker, day, time, size, total_amount]\n",
      "Index: []\n"
     ]
    }
   ],
   "source": [
    "df[\"total_amount\"]=df[\"total_bill\"]-df[\"tip\"]\n",
    "print(df[df[\"total_amount\"] == 10])"
   ]
  },
  {
   "cell_type": "code",
   "execution_count": null,
   "id": "705f2633",
   "metadata": {},
   "outputs": [],
   "source": []
  },
  {
   "cell_type": "markdown",
   "id": "83c09220",
   "metadata": {},
   "source": [
    "### 46. Why friday is most typical day for better transactions? please in detail"
   ]
  },
  {
   "cell_type": "code",
   "execution_count": 67,
   "id": "6193b950",
   "metadata": {},
   "outputs": [
    {
     "data": {
      "text/plain": [
       "19"
      ]
     },
     "execution_count": 67,
     "metadata": {},
     "output_type": "execute_result"
    }
   ],
   "source": [
    "len(df[df[\"day\"] == \"Fri\"])"
   ]
  },
  {
   "cell_type": "code",
   "execution_count": 68,
   "id": "cb77d64c",
   "metadata": {},
   "outputs": [
    {
     "data": {
      "text/plain": [
       "87"
      ]
     },
     "execution_count": 68,
     "metadata": {},
     "output_type": "execute_result"
    }
   ],
   "source": [
    "len(df[df[\"day\"] == \"Sat\"])"
   ]
  },
  {
   "cell_type": "code",
   "execution_count": 69,
   "id": "697eb259",
   "metadata": {},
   "outputs": [
    {
     "data": {
      "text/plain": [
       "76"
      ]
     },
     "execution_count": 69,
     "metadata": {},
     "output_type": "execute_result"
    }
   ],
   "source": [
    "len(df[df[\"day\"] == \"Sun\"])"
   ]
  },
  {
   "cell_type": "code",
   "execution_count": 70,
   "id": "4ef51ee9",
   "metadata": {},
   "outputs": [
    {
     "data": {
      "text/plain": [
       "62"
      ]
     },
     "execution_count": 70,
     "metadata": {},
     "output_type": "execute_result"
    }
   ],
   "source": [
    "len(df[df[\"day\"] == \"Thur\"])"
   ]
  },
  {
   "cell_type": "markdown",
   "id": "d610af6b",
   "metadata": {},
   "source": [
    "       When compared to three days friday is the "
   ]
  },
  {
   "cell_type": "markdown",
   "id": "165aa768",
   "metadata": {},
   "source": [
    "### 47.  Randomly pick a total bill value from 0-10dlr,11-20dlr,21-30dlr,31-40dlr and 41-50dlr and return the highest among the list .And repeat the process for atleast 5 times and identify which are closest values."
   ]
  },
  {
   "cell_type": "code",
   "execution_count": 73,
   "id": "1959f19a",
   "metadata": {},
   "outputs": [
    {
     "data": {
      "text/plain": [
       "17"
      ]
     },
     "execution_count": 73,
     "metadata": {},
     "output_type": "execute_result"
    }
   ],
   "source": [
    "a=df[(df[\"total_bill\"]>=0) & (df[\"total_bill\"]<=10)]\n",
    "len(a)"
   ]
  },
  {
   "cell_type": "code",
   "execution_count": 74,
   "id": "0b2e19c9",
   "metadata": {},
   "outputs": [
    {
     "data": {
      "text/plain": [
       "116"
      ]
     },
     "execution_count": 74,
     "metadata": {},
     "output_type": "execute_result"
    }
   ],
   "source": [
    "b=df[(df[\"total_bill\"]>=11) & (df[\"total_bill\"]<=20)]\n",
    "len(b)"
   ]
  },
  {
   "cell_type": "code",
   "execution_count": 75,
   "id": "9a1d1e43",
   "metadata": {},
   "outputs": [
    {
     "data": {
      "text/plain": [
       "51"
      ]
     },
     "execution_count": 75,
     "metadata": {},
     "output_type": "execute_result"
    }
   ],
   "source": [
    "c=df[(df[\"total_bill\"]>=21) & (df[\"total_bill\"]<=30)]\n",
    "len(c)"
   ]
  },
  {
   "cell_type": "code",
   "execution_count": 76,
   "id": "3257ed01",
   "metadata": {},
   "outputs": [
    {
     "data": {
      "text/plain": [
       "18"
      ]
     },
     "execution_count": 76,
     "metadata": {},
     "output_type": "execute_result"
    }
   ],
   "source": [
    "d=df[(df[\"total_bill\"]>=31) & (df[\"total_bill\"]<=40)]\n",
    "len(d)"
   ]
  },
  {
   "cell_type": "code",
   "execution_count": 87,
   "id": "ce181b85",
   "metadata": {},
   "outputs": [
    {
     "data": {
      "text/plain": [
       "7"
      ]
     },
     "execution_count": 87,
     "metadata": {},
     "output_type": "execute_result"
    }
   ],
   "source": [
    "e=df[(df[\"total_bill\"]>=41) & (df[\"total_bill\"]<=50)]\n",
    "len(e)"
   ]
  },
  {
   "cell_type": "markdown",
   "id": "258b8b18",
   "metadata": {},
   "source": [
    "    Randomly pick total bill from 0 to 50 dlr  repeat the process atleast  5 times 41-50 dlr are closest values"
   ]
  },
  {
   "cell_type": "markdown",
   "id": "26b96d92",
   "metadata": {},
   "source": [
    "### 49. Discuss  your  ideology and critics of why female has less smoking data compared to male?"
   ]
  },
  {
   "cell_type": "code",
   "execution_count": 77,
   "id": "6d80265f",
   "metadata": {},
   "outputs": [
    {
     "data": {
      "text/plain": [
       "33"
      ]
     },
     "execution_count": 77,
     "metadata": {},
     "output_type": "execute_result"
    }
   ],
   "source": [
    "x=df[df[\"smoker\"] == \"Yes\"]\n",
    "len(x[x[\"sex\"] == \"Female\"])"
   ]
  },
  {
   "cell_type": "code",
   "execution_count": 78,
   "id": "9d434e6d",
   "metadata": {},
   "outputs": [
    {
     "data": {
      "text/plain": [
       "97"
      ]
     },
     "execution_count": 78,
     "metadata": {},
     "output_type": "execute_result"
    }
   ],
   "source": [
    "x=df[df[\"smoker\"] == \"No\"]\n",
    "len(x[x[\"sex\"] == \"Male\"])"
   ]
  },
  {
   "cell_type": "markdown",
   "id": "1d9ec966",
   "metadata": {},
   "source": [
    "    In the above code when compared to male and female , female has less smoking data compared to male baecuse mostly male has habit to the smoking"
   ]
  },
  {
   "cell_type": "markdown",
   "id": "f245528a",
   "metadata": {},
   "source": [
    "### 50.  Randomly pick a record from this dataset and return it's gender with total bill and tip  values. Repeat the process for atleast for 5 times and retuen highest among them."
   ]
  },
  {
   "cell_type": "code",
   "execution_count": 82,
   "id": "b2789902",
   "metadata": {},
   "outputs": [
    {
     "data": {
      "text/plain": [
       "sex           Female\n",
       "total_bill     16.99\n",
       "Name: 0, dtype: object"
      ]
     },
     "execution_count": 82,
     "metadata": {},
     "output_type": "execute_result"
    }
   ],
   "source": [
    "a=df[[\"sex\",\"total_bill\"]]\n",
    "a.loc[0]"
   ]
  },
  {
   "cell_type": "code",
   "execution_count": 83,
   "id": "d56b3b05",
   "metadata": {},
   "outputs": [
    {
     "data": {
      "text/plain": [
       "sex            Male\n",
       "total_bill    10.34\n",
       "Name: 1, dtype: object"
      ]
     },
     "execution_count": 83,
     "metadata": {},
     "output_type": "execute_result"
    }
   ],
   "source": [
    "b=df[[\"sex\",\"total_bill\"]]\n",
    "b.loc[1]"
   ]
  },
  {
   "cell_type": "code",
   "execution_count": 84,
   "id": "71ffae23",
   "metadata": {},
   "outputs": [
    {
     "data": {
      "text/plain": [
       "sex            Male\n",
       "total_bill    21.01\n",
       "Name: 2, dtype: object"
      ]
     },
     "execution_count": 84,
     "metadata": {},
     "output_type": "execute_result"
    }
   ],
   "source": [
    "c=df[[\"sex\",\"total_bill\"]]\n",
    "c.loc[2]"
   ]
  },
  {
   "cell_type": "code",
   "execution_count": 85,
   "id": "282259e3",
   "metadata": {},
   "outputs": [
    {
     "data": {
      "text/plain": [
       "sex            Male\n",
       "total_bill    23.68\n",
       "Name: 3, dtype: object"
      ]
     },
     "execution_count": 85,
     "metadata": {},
     "output_type": "execute_result"
    }
   ],
   "source": [
    "d=df[[\"sex\",\"total_bill\"]]\n",
    "d.loc[3]"
   ]
  },
  {
   "cell_type": "code",
   "execution_count": 86,
   "id": "e179797b",
   "metadata": {},
   "outputs": [
    {
     "data": {
      "text/plain": [
       "sex           Female\n",
       "total_bill     24.59\n",
       "Name: 4, dtype: object"
      ]
     },
     "execution_count": 86,
     "metadata": {},
     "output_type": "execute_result"
    }
   ],
   "source": [
    "e=df[[\"sex\",\"total_bill\"]]\n",
    "e.loc[4]"
   ]
  },
  {
   "cell_type": "markdown",
   "id": "15af7e2a",
   "metadata": {},
   "source": [
    "    Randomly pick a record from this dataset repeat the process atleast 5 times return highest value is gender female and total_bill is 24.59"
   ]
  }
 ],
 "metadata": {
  "kernelspec": {
   "display_name": "Python 3 (ipykernel)",
   "language": "python",
   "name": "python3"
  },
  "language_info": {
   "codemirror_mode": {
    "name": "ipython",
    "version": 3
   },
   "file_extension": ".py",
   "mimetype": "text/x-python",
   "name": "python",
   "nbconvert_exporter": "python",
   "pygments_lexer": "ipython3",
   "version": "3.9.9"
  }
 },
 "nbformat": 4,
 "nbformat_minor": 5
}
